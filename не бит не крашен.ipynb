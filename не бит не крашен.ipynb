{
 "cells": [
  {
   "cell_type": "markdown",
   "metadata": {},
   "source": [
    "<div style=\"border:solid Chocolate 2px; padding: 40px\">\n",
    "    \n",
    "## Описание проекта\n",
    "- Сервис «Не бит, не крашен»\n",
    "- Сервис по продаже автомобилей с пробегом «Не бит, не крашен» разрабатывает инновационное приложение, которое позволит пользователям быстро и точно узнать рыночную стоимость своего автомобиля. Данное приложение станет ключевым инструментом для привлечения новых клиентов, предоставляя им простую и удобную возможность оценки стоимости транспортного средства на основе его технических характеристик и комплектации.\n",
    "\n",
    "#### Цель проекта\n",
    "- Построить высокоэффективную модель машинного обучения для определения рыночной стоимости автомобилей с пробегом на основе исторических данных, включающих технические характеристики, комплектации и цены автомобилей.\n",
    "\n",
    "#### Важные критерии для заказчика:\n",
    "- Качество предсказания: Модель должна обеспечивать высокую точность предсказаний стоимости автомобиля.\n",
    "- Скорость предсказания: Приложение должно быстро выдавать результаты, чтобы пользователи могли оперативно получать информацию.\n",
    "- Время обучения: Модель должна быть обучена за разумное время, чтобы можно было легко обновлять её на основе новых данных."
   ]
  },
  {
   "cell_type": "markdown",
   "metadata": {},
   "source": [
    "<div style=\"border:solid Chocolate 2px; padding: 40px\">\n",
    "    \n",
    "## План проекта\n",
    "    \n",
    "1. Подготовка данных\n",
    "    \n",
    "1.1 Загрузка данных\n",
    "- Импорт необходимых библиотек (pandas, numpy и т.д.).\n",
    "- Загрузка данных в DataFrame.\n",
    "1.2 Предобработка данных\n",
    "    \n",
    "- Проверка и обработка пропущенных значений.\n",
    "- Преобразование типов данных.\n",
    "\n",
    "1.3 Исследовательский анализ данных (EDA)\n",
    "    \n",
    "- Описание и визуализация распределения данных.\n",
    "- Выявление и анализ аномалий.\n",
    "- Анализ основных статистик (среднее, медиана, мода, стандартное отклонение и т.д.).\n",
    "1.4 Анализ корреляции\n",
    "    \n",
    "- Расчет коэффициентов корреляции для выявления связей между признаками.\n",
    "- Визуализация матрицы корреляции.\n",
    "- Интерпретация значений корреляции и выявление значимых признаков.\n",
    "1.5 Разделение датасета на выборки\n",
    "- Разделение данных на тренировочную, валидационную и тестовую выборки\n",
    "2. Обучение моделей\n",
    "2.1 Линейная регрессия\n",
    "- Обучение модели линейной регрессии.\n",
    "- Оценка модели с использованием метрик RMSE\n",
    "2.2 CatBoost\n",
    "- Обучение модели CatBoost.\n",
    "- Настройка гиперпараметров (использование GridSearchCV или RandomizedSearchCV).\n",
    "- Оценка модели с использованием метрик RMSE\n",
    "2.3 LightGBM\n",
    "- Обучение модели LightGBM.\n",
    "- Настройка гиперпараметров (использование GridSearchCV или RandomizedSearchCV).\n",
    "- Оценка модели с использованием метрик RMSE\n",
    "3. Анализ моделей\n",
    "- Сравнение производительности всех обученных моделей.\n",
    "- Интерпретация результатов и выявление сильных и слабых сторон каждой модели.\n",
    "- Выбор наилучшей модели на основе производительности и интерпретации результатов.\n",
    "4. Общий вывод\n",
    "- Обобщение полученных результатов.\n",
    "- Рекомендации по дальнейшему улучшению моделей.\n",
    "- Определение дальнейших шагов для внедрения моделей в производственную среду или для продолжения исследования."
   ]
  },
  {
   "cell_type": "markdown",
   "metadata": {},
   "source": [
    "## 1. Подготовка данных"
   ]
  },
  {
   "cell_type": "markdown",
   "metadata": {},
   "source": [
    "### 1.1 Загрузка данных"
   ]
  },
  {
   "cell_type": "code",
   "execution_count": 1,
   "metadata": {},
   "outputs": [],
   "source": [
    "import pandas as pd\n",
    "import seaborn as sns\n",
    "import matplotlib.pyplot as plt\n",
    "import numpy as np\n",
    "\n",
    "from phik import resources, report\n",
    "from phik.report import plot_correlation_matrix\n",
    "\n",
    "import time\n",
    "import math\n",
    "\n",
    "from sklearn.metrics import mean_squared_error, r2_score, mean_absolute_error, confusion_matrix, confusion_matrix\n",
    "from sklearn.model_selection import cross_val_predict, train_test_split, RandomizedSearchCV, cross_val_score\n",
    "from sklearn.preprocessing import OneHotEncoder, OrdinalEncoder\n",
    "from sklearn.compose import ColumnTransformer\n",
    "from sklearn.pipeline import Pipeline, make_pipeline\n",
    "from sklearn.linear_model import LinearRegression\n",
    "from sklearn.metrics import confusion_matrix, ConfusionMatrixDisplay\n",
    "from sklearn.ensemble import RandomForestRegressor\n",
    "\n",
    "from lightgbm import LGBMRegressor\n",
    "from catboost import CatBoostRegressor"
   ]
  },
  {
   "cell_type": "code",
   "execution_count": 2,
   "metadata": {},
   "outputs": [],
   "source": [
    "try:\n",
    "    df = pd.read_csv('autos.csv')\n",
    "except FileNotFoundError:\n",
    "    df = pd.read_csv('C:\\\\Users\\\\User\\\\Downloads\\\\autos.csv')"
   ]
  },
  {
   "cell_type": "code",
   "execution_count": 3,
   "metadata": {
    "scrolled": true
   },
   "outputs": [
    {
     "data": {
      "text/html": [
       "<div>\n",
       "<style scoped>\n",
       "    .dataframe tbody tr th:only-of-type {\n",
       "        vertical-align: middle;\n",
       "    }\n",
       "\n",
       "    .dataframe tbody tr th {\n",
       "        vertical-align: top;\n",
       "    }\n",
       "\n",
       "    .dataframe thead th {\n",
       "        text-align: right;\n",
       "    }\n",
       "</style>\n",
       "<table border=\"1\" class=\"dataframe\">\n",
       "  <thead>\n",
       "    <tr style=\"text-align: right;\">\n",
       "      <th></th>\n",
       "      <th>DateCrawled</th>\n",
       "      <th>Price</th>\n",
       "      <th>VehicleType</th>\n",
       "      <th>RegistrationYear</th>\n",
       "      <th>Gearbox</th>\n",
       "      <th>Power</th>\n",
       "      <th>Model</th>\n",
       "      <th>Kilometer</th>\n",
       "      <th>RegistrationMonth</th>\n",
       "      <th>FuelType</th>\n",
       "      <th>Brand</th>\n",
       "      <th>Repaired</th>\n",
       "      <th>DateCreated</th>\n",
       "      <th>NumberOfPictures</th>\n",
       "      <th>PostalCode</th>\n",
       "      <th>LastSeen</th>\n",
       "    </tr>\n",
       "  </thead>\n",
       "  <tbody>\n",
       "    <tr>\n",
       "      <th>0</th>\n",
       "      <td>2016-03-24 11:52:17</td>\n",
       "      <td>480</td>\n",
       "      <td>NaN</td>\n",
       "      <td>1993</td>\n",
       "      <td>manual</td>\n",
       "      <td>0</td>\n",
       "      <td>golf</td>\n",
       "      <td>150000</td>\n",
       "      <td>0</td>\n",
       "      <td>petrol</td>\n",
       "      <td>volkswagen</td>\n",
       "      <td>NaN</td>\n",
       "      <td>2016-03-24 00:00:00</td>\n",
       "      <td>0</td>\n",
       "      <td>70435</td>\n",
       "      <td>2016-04-07 03:16:57</td>\n",
       "    </tr>\n",
       "    <tr>\n",
       "      <th>1</th>\n",
       "      <td>2016-03-24 10:58:45</td>\n",
       "      <td>18300</td>\n",
       "      <td>coupe</td>\n",
       "      <td>2011</td>\n",
       "      <td>manual</td>\n",
       "      <td>190</td>\n",
       "      <td>NaN</td>\n",
       "      <td>125000</td>\n",
       "      <td>5</td>\n",
       "      <td>gasoline</td>\n",
       "      <td>audi</td>\n",
       "      <td>yes</td>\n",
       "      <td>2016-03-24 00:00:00</td>\n",
       "      <td>0</td>\n",
       "      <td>66954</td>\n",
       "      <td>2016-04-07 01:46:50</td>\n",
       "    </tr>\n",
       "    <tr>\n",
       "      <th>2</th>\n",
       "      <td>2016-03-14 12:52:21</td>\n",
       "      <td>9800</td>\n",
       "      <td>suv</td>\n",
       "      <td>2004</td>\n",
       "      <td>auto</td>\n",
       "      <td>163</td>\n",
       "      <td>grand</td>\n",
       "      <td>125000</td>\n",
       "      <td>8</td>\n",
       "      <td>gasoline</td>\n",
       "      <td>jeep</td>\n",
       "      <td>NaN</td>\n",
       "      <td>2016-03-14 00:00:00</td>\n",
       "      <td>0</td>\n",
       "      <td>90480</td>\n",
       "      <td>2016-04-05 12:47:46</td>\n",
       "    </tr>\n",
       "    <tr>\n",
       "      <th>3</th>\n",
       "      <td>2016-03-17 16:54:04</td>\n",
       "      <td>1500</td>\n",
       "      <td>small</td>\n",
       "      <td>2001</td>\n",
       "      <td>manual</td>\n",
       "      <td>75</td>\n",
       "      <td>golf</td>\n",
       "      <td>150000</td>\n",
       "      <td>6</td>\n",
       "      <td>petrol</td>\n",
       "      <td>volkswagen</td>\n",
       "      <td>no</td>\n",
       "      <td>2016-03-17 00:00:00</td>\n",
       "      <td>0</td>\n",
       "      <td>91074</td>\n",
       "      <td>2016-03-17 17:40:17</td>\n",
       "    </tr>\n",
       "    <tr>\n",
       "      <th>4</th>\n",
       "      <td>2016-03-31 17:25:20</td>\n",
       "      <td>3600</td>\n",
       "      <td>small</td>\n",
       "      <td>2008</td>\n",
       "      <td>manual</td>\n",
       "      <td>69</td>\n",
       "      <td>fabia</td>\n",
       "      <td>90000</td>\n",
       "      <td>7</td>\n",
       "      <td>gasoline</td>\n",
       "      <td>skoda</td>\n",
       "      <td>no</td>\n",
       "      <td>2016-03-31 00:00:00</td>\n",
       "      <td>0</td>\n",
       "      <td>60437</td>\n",
       "      <td>2016-04-06 10:17:21</td>\n",
       "    </tr>\n",
       "  </tbody>\n",
       "</table>\n",
       "</div>"
      ],
      "text/plain": [
       "           DateCrawled  Price VehicleType  RegistrationYear Gearbox  Power  \\\n",
       "0  2016-03-24 11:52:17    480         NaN              1993  manual      0   \n",
       "1  2016-03-24 10:58:45  18300       coupe              2011  manual    190   \n",
       "2  2016-03-14 12:52:21   9800         suv              2004    auto    163   \n",
       "3  2016-03-17 16:54:04   1500       small              2001  manual     75   \n",
       "4  2016-03-31 17:25:20   3600       small              2008  manual     69   \n",
       "\n",
       "   Model  Kilometer  RegistrationMonth  FuelType       Brand Repaired  \\\n",
       "0   golf     150000                  0    petrol  volkswagen      NaN   \n",
       "1    NaN     125000                  5  gasoline        audi      yes   \n",
       "2  grand     125000                  8  gasoline        jeep      NaN   \n",
       "3   golf     150000                  6    petrol  volkswagen       no   \n",
       "4  fabia      90000                  7  gasoline       skoda       no   \n",
       "\n",
       "           DateCreated  NumberOfPictures  PostalCode             LastSeen  \n",
       "0  2016-03-24 00:00:00                 0       70435  2016-04-07 03:16:57  \n",
       "1  2016-03-24 00:00:00                 0       66954  2016-04-07 01:46:50  \n",
       "2  2016-03-14 00:00:00                 0       90480  2016-04-05 12:47:46  \n",
       "3  2016-03-17 00:00:00                 0       91074  2016-03-17 17:40:17  \n",
       "4  2016-03-31 00:00:00                 0       60437  2016-04-06 10:17:21  "
      ]
     },
     "metadata": {},
     "output_type": "display_data"
    },
    {
     "name": "stdout",
     "output_type": "stream",
     "text": [
      "<class 'pandas.core.frame.DataFrame'>\n",
      "RangeIndex: 354369 entries, 0 to 354368\n",
      "Data columns (total 16 columns):\n",
      " #   Column             Non-Null Count   Dtype \n",
      "---  ------             --------------   ----- \n",
      " 0   DateCrawled        354369 non-null  object\n",
      " 1   Price              354369 non-null  int64 \n",
      " 2   VehicleType        316879 non-null  object\n",
      " 3   RegistrationYear   354369 non-null  int64 \n",
      " 4   Gearbox            334536 non-null  object\n",
      " 5   Power              354369 non-null  int64 \n",
      " 6   Model              334664 non-null  object\n",
      " 7   Kilometer          354369 non-null  int64 \n",
      " 8   RegistrationMonth  354369 non-null  int64 \n",
      " 9   FuelType           321474 non-null  object\n",
      " 10  Brand              354369 non-null  object\n",
      " 11  Repaired           283215 non-null  object\n",
      " 12  DateCreated        354369 non-null  object\n",
      " 13  NumberOfPictures   354369 non-null  int64 \n",
      " 14  PostalCode         354369 non-null  int64 \n",
      " 15  LastSeen           354369 non-null  object\n",
      "dtypes: int64(7), object(9)\n",
      "memory usage: 43.3+ MB\n"
     ]
    }
   ],
   "source": [
    "display(df.head())\n",
    "df.info()"
   ]
  },
  {
   "cell_type": "markdown",
   "metadata": {},
   "source": [
    "<div style=\"border:solid Chocolate 2px; padding: 40px\">\n",
    "    \n",
    "### Промежуточный вывод\n",
    "    \n",
    "1. Поменяем названия столбцов, приведя их к нижнему регистру\n",
    "2. Столбцы DateCrawled, DateCreated, LastSeen поменяем на тип даты\n",
    "3. Необходимо проверить данные на явные и неявные дубликаты\n",
    "4. Проверим данные на пропуски и предпримем меры"
   ]
  },
  {
   "cell_type": "markdown",
   "metadata": {},
   "source": [
    "### 1.2. Предобработка данных"
   ]
  },
  {
   "cell_type": "code",
   "execution_count": 4,
   "metadata": {},
   "outputs": [],
   "source": [
    "df.columns = [col.lower() for col in df.columns]"
   ]
  },
  {
   "cell_type": "code",
   "execution_count": 5,
   "metadata": {},
   "outputs": [],
   "source": [
    "new_column_names = {\n",
    "    'datecrawled': 'date_crawled',\n",
    "    'price': 'price',\n",
    "    'vehicletype': 'vehicle_type',\n",
    "    'registrationyear': 'registration_year',\n",
    "    'gearbox': 'gear_box',\n",
    "    'power': 'power',\n",
    "    'model': 'model',\n",
    "    'kilometer': 'kilometer',\n",
    "    'registrationmonth': 'registration_month',\n",
    "    'fueltype': 'fuel_type',\n",
    "    'brand': 'brand',\n",
    "    'repaired': 'repaired',\n",
    "    'datecreated': 'date_created',\n",
    "    'numberofpictures': 'number_of_pictures',\n",
    "    'postalcode': 'postal_code',\n",
    "    'lastseen': 'last_seen'\n",
    "}\n",
    "df.rename(columns=new_column_names, inplace=True)"
   ]
  },
  {
   "cell_type": "code",
   "execution_count": 7,
   "metadata": {},
   "outputs": [
    {
     "name": "stdout",
     "output_type": "stream",
     "text": [
      "<class 'pandas.core.frame.DataFrame'>\n",
      "RangeIndex: 354369 entries, 0 to 354368\n",
      "Data columns (total 16 columns):\n",
      " #   Column              Non-Null Count   Dtype         \n",
      "---  ------              --------------   -----         \n",
      " 0   date_crawled        354369 non-null  datetime64[ns]\n",
      " 1   price               354369 non-null  int64         \n",
      " 2   vehicle_type        316879 non-null  object        \n",
      " 3   registration_year   354369 non-null  int64         \n",
      " 4   gear_box            334536 non-null  object        \n",
      " 5   power               354369 non-null  int64         \n",
      " 6   model               334664 non-null  object        \n",
      " 7   kilometer           354369 non-null  int64         \n",
      " 8   registration_month  354369 non-null  int64         \n",
      " 9   fuel_type           321474 non-null  object        \n",
      " 10  brand               354369 non-null  object        \n",
      " 11  repaired            283215 non-null  object        \n",
      " 12  date_created        354369 non-null  datetime64[ns]\n",
      " 13  number_of_pictures  354369 non-null  int64         \n",
      " 14  postal_code         354369 non-null  int64         \n",
      " 15  last_seen           354369 non-null  datetime64[ns]\n",
      "dtypes: datetime64[ns](3), int64(7), object(6)\n",
      "memory usage: 43.3+ MB\n"
     ]
    }
   ],
   "source": [
    "df['date_crawled'] = pd.to_datetime(df['date_crawled'], format='%Y-%m-%d %H:%M:%S')\n",
    "df['date_created'] = pd.to_datetime(df['date_created'], format='%Y-%m-%d %H:%M:%S', errors='coerce')\n",
    "df['last_seen'] = pd.to_datetime(df['last_seen'], format='%Y-%m-%d %H:%M:%S')\n",
    "df.info()"
   ]
  },
  {
   "cell_type": "code",
   "execution_count": 8,
   "metadata": {},
   "outputs": [
    {
     "name": "stdout",
     "output_type": "stream",
     "text": [
      "Уникальные значения в столбце 'vehicle_type': [nan 'coupe' 'suv' 'small' 'sedan' 'convertible' 'bus' 'wagon' 'other']\n",
      "Уникальные значения в столбце 'gear_box': ['manual' 'auto' nan]\n",
      "Уникальные значения в столбце 'model': ['golf' nan 'grand' 'fabia' '3er' '2_reihe' 'other' 'c_max' '3_reihe'\n",
      " 'passat' 'navara' 'ka' 'polo' 'twingo' 'a_klasse' 'scirocco' '5er'\n",
      " 'meriva' 'arosa' 'c4' 'civic' 'transporter' 'punto' 'e_klasse' 'clio'\n",
      " 'kadett' 'kangoo' 'corsa' 'one' 'fortwo' '1er' 'b_klasse' 'signum'\n",
      " 'astra' 'a8' 'jetta' 'fiesta' 'c_klasse' 'micra' 'vito' 'sprinter' '156'\n",
      " 'escort' 'forester' 'xc_reihe' 'scenic' 'a4' 'a1' 'insignia' 'combo'\n",
      " 'focus' 'tt' 'a6' 'jazz' 'omega' 'slk' '7er' '80' '147' '100' 'z_reihe'\n",
      " 'sportage' 'sorento' 'v40' 'ibiza' 'mustang' 'eos' 'touran' 'getz' 'a3'\n",
      " 'almera' 'megane' 'lupo' 'r19' 'zafira' 'caddy' 'mondeo' 'cordoba' 'colt'\n",
      " 'impreza' 'vectra' 'berlingo' 'tiguan' 'i_reihe' 'espace' 'sharan'\n",
      " '6_reihe' 'panda' 'up' 'seicento' 'ceed' '5_reihe' 'yeti' 'octavia' 'mii'\n",
      " 'rx_reihe' '6er' 'modus' 'fox' 'matiz' 'beetle' 'c1' 'rio' 'touareg'\n",
      " 'logan' 'spider' 'cuore' 's_max' 'a2' 'galaxy' 'c3' 'viano' 's_klasse'\n",
      " '1_reihe' 'avensis' 'roomster' 'sl' 'kaefer' 'santa' 'cooper' 'leon'\n",
      " '4_reihe' 'a5' '500' 'laguna' 'ptcruiser' 'clk' 'primera' 'x_reihe'\n",
      " 'exeo' '159' 'transit' 'juke' 'qashqai' 'carisma' 'accord' 'corolla'\n",
      " 'lanos' 'phaeton' 'verso' 'swift' 'rav' 'picanto' 'boxster' 'kalos'\n",
      " 'superb' 'stilo' 'alhambra' 'mx_reihe' 'roadster' 'ypsilon' 'cayenne'\n",
      " 'galant' 'justy' '90' 'sirion' 'crossfire' 'agila' 'duster' 'cr_reihe'\n",
      " 'v50' 'c_reihe' 'v_klasse' 'm_klasse' 'yaris' 'c5' 'aygo' 'cc' 'carnival'\n",
      " 'fusion' '911' 'bora' 'forfour' 'm_reihe' 'cl' 'tigra' '300c' 'spark'\n",
      " 'v70' 'kuga' 'x_type' 'ducato' 's_type' 'x_trail' 'toledo' 'altea'\n",
      " 'voyager' 'calibra' 'bravo' 'antara' 'tucson' 'citigo' 'jimny' 'wrangler'\n",
      " 'lybra' 'q7' 'lancer' 'captiva' 'c2' 'discovery' 'freelander' 'sandero'\n",
      " 'note' '900' 'cherokee' 'clubman' 'samara' 'defender' '601' 'cx_reihe'\n",
      " 'legacy' 'pajero' 'auris' 'niva' 's60' 'nubira' 'vivaro' 'g_klasse'\n",
      " 'lodgy' '850' 'range_rover' 'q3' 'serie_2' 'glk' 'charade' 'croma'\n",
      " 'outlander' 'doblo' 'musa' 'move' '9000' 'v60' '145' 'aveo' '200' 'b_max'\n",
      " 'range_rover_sport' 'terios' 'rangerover' 'q5' 'range_rover_evoque'\n",
      " 'materia' 'delta' 'gl' 'kalina' 'amarok' 'elefantino' 'i3' 'kappa'\n",
      " 'serie_3' 'serie_1']\n",
      "Уникальные значения в столбце 'fuel_type': ['petrol' 'gasoline' nan 'lpg' 'other' 'hybrid' 'cng' 'electric']\n",
      "Уникальные значения в столбце 'brand': ['volkswagen' 'audi' 'jeep' 'skoda' 'bmw' 'peugeot' 'ford' 'mazda'\n",
      " 'nissan' 'renault' 'mercedes_benz' 'opel' 'seat' 'citroen' 'honda' 'fiat'\n",
      " 'mini' 'smart' 'hyundai' 'sonstige_autos' 'alfa_romeo' 'subaru' 'volvo'\n",
      " 'mitsubishi' 'kia' 'suzuki' 'lancia' 'toyota' 'chevrolet' 'dacia'\n",
      " 'daihatsu' 'trabant' 'saab' 'chrysler' 'jaguar' 'daewoo' 'porsche'\n",
      " 'rover' 'land_rover' 'lada']\n",
      "Уникальные значения в столбце 'repaired': [nan 'yes' 'no']\n"
     ]
    }
   ],
   "source": [
    "object_columns = df.select_dtypes(include='object').columns\n",
    "for col in object_columns:\n",
    "    unique_values = df[col].unique()\n",
    "    print(f\"Уникальные значения в столбце '{col}': {unique_values}\")"
   ]
  },
  {
   "cell_type": "code",
   "execution_count": 9,
   "metadata": {},
   "outputs": [
    {
     "name": "stdout",
     "output_type": "stream",
     "text": [
      "['petrol' nan 'lpg' 'other' 'hybrid' 'cng' 'electric']\n",
      "['golf' nan 'grand' 'fabia' '3er' '2_reihe' 'other' 'c_max' '3_reihe'\n",
      " 'passat' 'navara' 'ka' 'polo' 'twingo' 'a_klasse' 'scirocco' '5er'\n",
      " 'meriva' 'arosa' 'c4' 'civic' 'transporter' 'punto' 'e_klasse' 'clio'\n",
      " 'kadett' 'kangoo' 'corsa' 'one' 'fortwo' '1er' 'b_klasse' 'signum'\n",
      " 'astra' 'a8' 'jetta' 'fiesta' 'c_klasse' 'micra' 'vito' 'sprinter' '156'\n",
      " 'escort' 'forester' 'xc_reihe' 'scenic' 'a4' 'a1' 'insignia' 'combo'\n",
      " 'focus' 'tt' 'a6' 'jazz' 'omega' 'slk' '7er' '80' '147' '100' 'z_reihe'\n",
      " 'sportage' 'sorento' 'v40' 'ibiza' 'mustang' 'eos' 'touran' 'getz' 'a3'\n",
      " 'almera' 'megane' 'lupo' 'r19' 'zafira' 'caddy' 'mondeo' 'cordoba' 'colt'\n",
      " 'impreza' 'vectra' 'berlingo' 'tiguan' 'i_reihe' 'espace' 'sharan'\n",
      " '6_reihe' 'panda' 'up' 'seicento' 'ceed' '5_reihe' 'yeti' 'octavia' 'mii'\n",
      " 'rx_reihe' '6er' 'modus' 'fox' 'matiz' 'beetle' 'c1' 'rio' 'touareg'\n",
      " 'logan' 'spider' 'cuore' 's_max' 'a2' 'galaxy' 'c3' 'viano' 's_klasse'\n",
      " '1_reihe' 'avensis' 'roomster' 'sl' 'kaefer' 'santa' 'cooper' 'leon'\n",
      " '4_reihe' 'a5' '500' 'laguna' 'ptcruiser' 'clk' 'primera' 'x_reihe'\n",
      " 'exeo' '159' 'transit' 'juke' 'qashqai' 'carisma' 'accord' 'corolla'\n",
      " 'lanos' 'phaeton' 'verso' 'swift' 'rav' 'picanto' 'boxster' 'kalos'\n",
      " 'superb' 'stilo' 'alhambra' 'mx_reihe' 'roadster' 'ypsilon' 'cayenne'\n",
      " 'galant' 'justy' '90' 'sirion' 'crossfire' 'agila' 'duster' 'cr_reihe'\n",
      " 'v50' 'c_reihe' 'v_klasse' 'm_klasse' 'yaris' 'c5' 'aygo' 'cc' 'carnival'\n",
      " 'fusion' '911' 'bora' 'forfour' 'm_reihe' 'cl' 'tigra' '300c' 'spark'\n",
      " 'v70' 'kuga' 'x_type' 'ducato' 's_type' 'x_trail' 'toledo' 'altea'\n",
      " 'voyager' 'calibra' 'bravo' 'antara' 'tucson' 'citigo' 'jimny' 'wrangler'\n",
      " 'lybra' 'q7' 'lancer' 'captiva' 'c2' 'discovery' 'freelander' 'sandero'\n",
      " 'note' '900' 'cherokee' 'clubman' 'samara' 'defender' '601' 'cx_reihe'\n",
      " 'legacy' 'pajero' 'auris' 'niva' 's60' 'nubira' 'vivaro' 'g_klasse'\n",
      " 'lodgy' '850' 'rangerover' 'q3' 'serie_2' 'glk' 'charade' 'croma'\n",
      " 'outlander' 'doblo' 'musa' 'move' '9000' 'v60' '145' 'aveo' '200' 'b_max'\n",
      " 'range_rover_sport' 'terios' 'q5' 'range_rover_evoque' 'materia' 'delta'\n",
      " 'gl' 'kalina' 'amarok' 'elefantino' 'i3' 'kappa' 'serie_3' 'serie_1']\n"
     ]
    }
   ],
   "source": [
    "df['fuel_type'] = df['fuel_type'].replace({'gasoline': 'petrol'})\n",
    "\n",
    "df['model'] = df['model'].replace({'range_rover': 'rangerover', 'Range Rover': 'rangerover'})\n",
    "\n",
    "print(df['fuel_type'].unique())\n",
    "print(df['model'].unique())"
   ]
  },
  {
   "cell_type": "code",
   "execution_count": 10,
   "metadata": {},
   "outputs": [
    {
     "data": {
      "text/plain": [
       "date_crawled              0\n",
       "price                     0\n",
       "vehicle_type          37490\n",
       "registration_year         0\n",
       "gear_box              19833\n",
       "power                     0\n",
       "model                 19705\n",
       "kilometer                 0\n",
       "registration_month        0\n",
       "fuel_type             32895\n",
       "brand                     0\n",
       "repaired              71154\n",
       "date_created              0\n",
       "number_of_pictures        0\n",
       "postal_code               0\n",
       "last_seen                 0\n",
       "dtype: int64"
      ]
     },
     "execution_count": 10,
     "metadata": {},
     "output_type": "execute_result"
    }
   ],
   "source": [
    "df.isna().sum()"
   ]
  },
  {
   "cell_type": "markdown",
   "metadata": {},
   "source": [
    "<div style=\"border:solid Chocolate 2px; padding: 40px\">\n",
    "    \n",
    "### Промежуточный вывод\n",
    "    \n",
    "Пропущенный значения все категориальные, и их очень много, удалять не вариант, поэтому заменим их на unknown"
   ]
  },
  {
   "cell_type": "code",
   "execution_count": 11,
   "metadata": {},
   "outputs": [
    {
     "data": {
      "text/plain": [
       "date_crawled          0\n",
       "price                 0\n",
       "vehicle_type          0\n",
       "registration_year     0\n",
       "gear_box              0\n",
       "power                 0\n",
       "model                 0\n",
       "kilometer             0\n",
       "registration_month    0\n",
       "fuel_type             0\n",
       "brand                 0\n",
       "repaired              0\n",
       "date_created          0\n",
       "number_of_pictures    0\n",
       "postal_code           0\n",
       "last_seen             0\n",
       "dtype: int64"
      ]
     },
     "execution_count": 11,
     "metadata": {},
     "output_type": "execute_result"
    }
   ],
   "source": [
    "categorical_columns = ['vehicle_type', 'gear_box', 'model', 'fuel_type', 'repaired']\n",
    "df[categorical_columns] = df[categorical_columns].fillna('unknown')\n",
    "df.isna().sum()"
   ]
  },
  {
   "cell_type": "code",
   "execution_count": 12,
   "metadata": {},
   "outputs": [],
   "source": [
    "df.drop_duplicates(inplace=True)"
   ]
  },
  {
   "cell_type": "code",
   "execution_count": 13,
   "metadata": {
    "scrolled": true
   },
   "outputs": [
    {
     "name": "stdout",
     "output_type": "stream",
     "text": [
      "<class 'pandas.core.frame.DataFrame'>\n",
      "Index: 354365 entries, 0 to 354368\n",
      "Data columns (total 16 columns):\n",
      " #   Column              Non-Null Count   Dtype         \n",
      "---  ------              --------------   -----         \n",
      " 0   date_crawled        354365 non-null  datetime64[ns]\n",
      " 1   price               354365 non-null  int64         \n",
      " 2   vehicle_type        354365 non-null  object        \n",
      " 3   registration_year   354365 non-null  int64         \n",
      " 4   gear_box            354365 non-null  object        \n",
      " 5   power               354365 non-null  int64         \n",
      " 6   model               354365 non-null  object        \n",
      " 7   kilometer           354365 non-null  int64         \n",
      " 8   registration_month  354365 non-null  int64         \n",
      " 9   fuel_type           354365 non-null  object        \n",
      " 10  brand               354365 non-null  object        \n",
      " 11  repaired            354365 non-null  object        \n",
      " 12  date_created        354365 non-null  datetime64[ns]\n",
      " 13  number_of_pictures  354365 non-null  int64         \n",
      " 14  postal_code         354365 non-null  int64         \n",
      " 15  last_seen           354365 non-null  datetime64[ns]\n",
      "dtypes: datetime64[ns](3), int64(7), object(6)\n",
      "memory usage: 46.0+ MB\n"
     ]
    }
   ],
   "source": [
    "df.info()"
   ]
  },
  {
   "cell_type": "markdown",
   "metadata": {},
   "source": [
    "<div style=\"border:solid Chocolate 2px; padding: 40px\">\n",
    "    \n",
    "### Промежуточный вывод:\n",
    "\n",
    "Выполнили все необходимые меры по предобработке:\n",
    "\n",
    "1. Заменили пропущенные значения\n",
    "2. Удалили дубликаты\n",
    "3. Привели столбцы к нижнему регистру\n",
    "4. Проверили данные на неявные дубликаты"
   ]
  },
  {
   "cell_type": "markdown",
   "metadata": {},
   "source": [
    "### 1.3 Исследоватедбский анализ данных"
   ]
  },
  {
   "cell_type": "code",
   "execution_count": 14,
   "metadata": {},
   "outputs": [
    {
     "data": {
      "text/html": [
       "<div>\n",
       "<style scoped>\n",
       "    .dataframe tbody tr th:only-of-type {\n",
       "        vertical-align: middle;\n",
       "    }\n",
       "\n",
       "    .dataframe tbody tr th {\n",
       "        vertical-align: top;\n",
       "    }\n",
       "\n",
       "    .dataframe thead th {\n",
       "        text-align: right;\n",
       "    }\n",
       "</style>\n",
       "<table border=\"1\" class=\"dataframe\">\n",
       "  <thead>\n",
       "    <tr style=\"text-align: right;\">\n",
       "      <th></th>\n",
       "      <th>date_crawled</th>\n",
       "      <th>price</th>\n",
       "      <th>registration_year</th>\n",
       "      <th>power</th>\n",
       "      <th>kilometer</th>\n",
       "      <th>registration_month</th>\n",
       "      <th>date_created</th>\n",
       "      <th>number_of_pictures</th>\n",
       "      <th>postal_code</th>\n",
       "      <th>last_seen</th>\n",
       "    </tr>\n",
       "  </thead>\n",
       "  <tbody>\n",
       "    <tr>\n",
       "      <th>count</th>\n",
       "      <td>354365</td>\n",
       "      <td>354365.000000</td>\n",
       "      <td>354365.000000</td>\n",
       "      <td>354365.000000</td>\n",
       "      <td>354365.000000</td>\n",
       "      <td>354365.000000</td>\n",
       "      <td>354365</td>\n",
       "      <td>354365.0</td>\n",
       "      <td>354365.000000</td>\n",
       "      <td>354365</td>\n",
       "    </tr>\n",
       "    <tr>\n",
       "      <th>mean</th>\n",
       "      <td>2016-03-21 12:58:09.520460544</td>\n",
       "      <td>4416.679830</td>\n",
       "      <td>2004.234481</td>\n",
       "      <td>110.093816</td>\n",
       "      <td>128211.363989</td>\n",
       "      <td>5.714650</td>\n",
       "      <td>2016-03-20 19:12:06.583042560</td>\n",
       "      <td>0.0</td>\n",
       "      <td>50508.503800</td>\n",
       "      <td>2016-03-29 23:51:06.766184960</td>\n",
       "    </tr>\n",
       "    <tr>\n",
       "      <th>min</th>\n",
       "      <td>2016-03-05 14:06:22</td>\n",
       "      <td>0.000000</td>\n",
       "      <td>1000.000000</td>\n",
       "      <td>0.000000</td>\n",
       "      <td>5000.000000</td>\n",
       "      <td>0.000000</td>\n",
       "      <td>2014-03-10 00:00:00</td>\n",
       "      <td>0.0</td>\n",
       "      <td>1067.000000</td>\n",
       "      <td>2016-03-05 14:15:08</td>\n",
       "    </tr>\n",
       "    <tr>\n",
       "      <th>25%</th>\n",
       "      <td>2016-03-13 11:52:33</td>\n",
       "      <td>1050.000000</td>\n",
       "      <td>1999.000000</td>\n",
       "      <td>69.000000</td>\n",
       "      <td>125000.000000</td>\n",
       "      <td>3.000000</td>\n",
       "      <td>2016-03-13 00:00:00</td>\n",
       "      <td>0.0</td>\n",
       "      <td>30165.000000</td>\n",
       "      <td>2016-03-23 02:50:03</td>\n",
       "    </tr>\n",
       "    <tr>\n",
       "      <th>50%</th>\n",
       "      <td>2016-03-21 17:50:55</td>\n",
       "      <td>2700.000000</td>\n",
       "      <td>2003.000000</td>\n",
       "      <td>105.000000</td>\n",
       "      <td>150000.000000</td>\n",
       "      <td>6.000000</td>\n",
       "      <td>2016-03-21 00:00:00</td>\n",
       "      <td>0.0</td>\n",
       "      <td>49413.000000</td>\n",
       "      <td>2016-04-03 15:15:52</td>\n",
       "    </tr>\n",
       "    <tr>\n",
       "      <th>75%</th>\n",
       "      <td>2016-03-29 14:37:20</td>\n",
       "      <td>6400.000000</td>\n",
       "      <td>2008.000000</td>\n",
       "      <td>143.000000</td>\n",
       "      <td>150000.000000</td>\n",
       "      <td>9.000000</td>\n",
       "      <td>2016-03-29 00:00:00</td>\n",
       "      <td>0.0</td>\n",
       "      <td>71083.000000</td>\n",
       "      <td>2016-04-06 10:15:19</td>\n",
       "    </tr>\n",
       "    <tr>\n",
       "      <th>max</th>\n",
       "      <td>2016-04-07 14:36:58</td>\n",
       "      <td>20000.000000</td>\n",
       "      <td>9999.000000</td>\n",
       "      <td>20000.000000</td>\n",
       "      <td>150000.000000</td>\n",
       "      <td>12.000000</td>\n",
       "      <td>2016-04-07 00:00:00</td>\n",
       "      <td>0.0</td>\n",
       "      <td>99998.000000</td>\n",
       "      <td>2016-04-07 14:58:51</td>\n",
       "    </tr>\n",
       "    <tr>\n",
       "      <th>std</th>\n",
       "      <td>NaN</td>\n",
       "      <td>4514.176349</td>\n",
       "      <td>90.228466</td>\n",
       "      <td>189.851330</td>\n",
       "      <td>37905.083858</td>\n",
       "      <td>3.726432</td>\n",
       "      <td>NaN</td>\n",
       "      <td>0.0</td>\n",
       "      <td>25783.100078</td>\n",
       "      <td>NaN</td>\n",
       "    </tr>\n",
       "  </tbody>\n",
       "</table>\n",
       "</div>"
      ],
      "text/plain": [
       "                        date_crawled          price  registration_year  \\\n",
       "count                         354365  354365.000000      354365.000000   \n",
       "mean   2016-03-21 12:58:09.520460544    4416.679830        2004.234481   \n",
       "min              2016-03-05 14:06:22       0.000000        1000.000000   \n",
       "25%              2016-03-13 11:52:33    1050.000000        1999.000000   \n",
       "50%              2016-03-21 17:50:55    2700.000000        2003.000000   \n",
       "75%              2016-03-29 14:37:20    6400.000000        2008.000000   \n",
       "max              2016-04-07 14:36:58   20000.000000        9999.000000   \n",
       "std                              NaN    4514.176349          90.228466   \n",
       "\n",
       "               power      kilometer  registration_month  \\\n",
       "count  354365.000000  354365.000000       354365.000000   \n",
       "mean      110.093816  128211.363989            5.714650   \n",
       "min         0.000000    5000.000000            0.000000   \n",
       "25%        69.000000  125000.000000            3.000000   \n",
       "50%       105.000000  150000.000000            6.000000   \n",
       "75%       143.000000  150000.000000            9.000000   \n",
       "max     20000.000000  150000.000000           12.000000   \n",
       "std       189.851330   37905.083858            3.726432   \n",
       "\n",
       "                        date_created  number_of_pictures    postal_code  \\\n",
       "count                         354365            354365.0  354365.000000   \n",
       "mean   2016-03-20 19:12:06.583042560                 0.0   50508.503800   \n",
       "min              2014-03-10 00:00:00                 0.0    1067.000000   \n",
       "25%              2016-03-13 00:00:00                 0.0   30165.000000   \n",
       "50%              2016-03-21 00:00:00                 0.0   49413.000000   \n",
       "75%              2016-03-29 00:00:00                 0.0   71083.000000   \n",
       "max              2016-04-07 00:00:00                 0.0   99998.000000   \n",
       "std                              NaN                 0.0   25783.100078   \n",
       "\n",
       "                           last_seen  \n",
       "count                         354365  \n",
       "mean   2016-03-29 23:51:06.766184960  \n",
       "min              2016-03-05 14:15:08  \n",
       "25%              2016-03-23 02:50:03  \n",
       "50%              2016-04-03 15:15:52  \n",
       "75%              2016-04-06 10:15:19  \n",
       "max              2016-04-07 14:58:51  \n",
       "std                              NaN  "
      ]
     },
     "execution_count": 14,
     "metadata": {},
     "output_type": "execute_result"
    }
   ],
   "source": [
    "df.describe()"
   ]
  },
  {
   "cell_type": "markdown",
   "metadata": {},
   "source": [
    "<div style=\"border:solid Chocolate 2px; padding: 40px\">\n",
    "    \n",
    "### Промежуточный вывод:\n",
    "    \n",
    "Видны ошибки в данных такие как:\n",
    " \n",
    "1. Цена 0.\n",
    "2. Год регистрации авто 1000 год и 9999 год\n",
    "3. Мощность в 0 и 20000\n",
    "4. Также столбец кол-во картинок вообще нам не нужен, везде нули\n",
    "4. Помимо всего, можно будет объединить год и регистрации и его месяц, оставив день как 1 число"
   ]
  },
  {
   "cell_type": "markdown",
   "metadata": {},
   "source": [
    "<div style=\"border:solid Chocolate 2px; padding: 40px\">\n",
    "    \n",
    "Перед очищением данных, посмотрим на графики, чтобы не очищать вслепую"
   ]
  },
  {
   "cell_type": "code",
   "execution_count": 15,
   "metadata": {
    "scrolled": false
   },
   "outputs": [
    {
     "ename": "OSError",
     "evalue": "'seaborn-darkgrid' is not a valid package style, path of style file, URL of style file, or library style name (library styles are listed in `style.available`)",
     "output_type": "error",
     "traceback": [
      "\u001b[1;31m---------------------------------------------------------------------------\u001b[0m",
      "\u001b[1;31mFileNotFoundError\u001b[0m                         Traceback (most recent call last)",
      "File \u001b[1;32m~\\anaconda3\\envs\\practicum\\lib\\site-packages\\matplotlib\\style\\core.py:137\u001b[0m, in \u001b[0;36muse\u001b[1;34m(style)\u001b[0m\n\u001b[0;32m    136\u001b[0m \u001b[38;5;28;01mtry\u001b[39;00m:\n\u001b[1;32m--> 137\u001b[0m     style \u001b[38;5;241m=\u001b[39m \u001b[43m_rc_params_in_file\u001b[49m\u001b[43m(\u001b[49m\u001b[43mstyle\u001b[49m\u001b[43m)\u001b[49m\n\u001b[0;32m    138\u001b[0m \u001b[38;5;28;01mexcept\u001b[39;00m \u001b[38;5;167;01mOSError\u001b[39;00m \u001b[38;5;28;01mas\u001b[39;00m err:\n",
      "File \u001b[1;32m~\\anaconda3\\envs\\practicum\\lib\\site-packages\\matplotlib\\__init__.py:870\u001b[0m, in \u001b[0;36m_rc_params_in_file\u001b[1;34m(fname, transform, fail_on_error)\u001b[0m\n\u001b[0;32m    869\u001b[0m rc_temp \u001b[38;5;241m=\u001b[39m {}\n\u001b[1;32m--> 870\u001b[0m \u001b[38;5;28;01mwith\u001b[39;00m _open_file_or_url(fname) \u001b[38;5;28;01mas\u001b[39;00m fd:\n\u001b[0;32m    871\u001b[0m     \u001b[38;5;28;01mtry\u001b[39;00m:\n",
      "File \u001b[1;32m~\\anaconda3\\envs\\practicum\\lib\\contextlib.py:119\u001b[0m, in \u001b[0;36m_GeneratorContextManager.__enter__\u001b[1;34m(self)\u001b[0m\n\u001b[0;32m    118\u001b[0m \u001b[38;5;28;01mtry\u001b[39;00m:\n\u001b[1;32m--> 119\u001b[0m     \u001b[38;5;28;01mreturn\u001b[39;00m \u001b[38;5;28;43mnext\u001b[39;49m\u001b[43m(\u001b[49m\u001b[38;5;28;43mself\u001b[39;49m\u001b[38;5;241;43m.\u001b[39;49m\u001b[43mgen\u001b[49m\u001b[43m)\u001b[49m\n\u001b[0;32m    120\u001b[0m \u001b[38;5;28;01mexcept\u001b[39;00m \u001b[38;5;167;01mStopIteration\u001b[39;00m:\n",
      "File \u001b[1;32m~\\anaconda3\\envs\\practicum\\lib\\site-packages\\matplotlib\\__init__.py:847\u001b[0m, in \u001b[0;36m_open_file_or_url\u001b[1;34m(fname)\u001b[0m\n\u001b[0;32m    846\u001b[0m fname \u001b[38;5;241m=\u001b[39m os\u001b[38;5;241m.\u001b[39mpath\u001b[38;5;241m.\u001b[39mexpanduser(fname)\n\u001b[1;32m--> 847\u001b[0m \u001b[38;5;28;01mwith\u001b[39;00m \u001b[38;5;28;43mopen\u001b[39;49m\u001b[43m(\u001b[49m\u001b[43mfname\u001b[49m\u001b[43m,\u001b[49m\u001b[43m \u001b[49m\u001b[43mencoding\u001b[49m\u001b[38;5;241;43m=\u001b[39;49m\u001b[38;5;124;43m'\u001b[39;49m\u001b[38;5;124;43mutf-8\u001b[39;49m\u001b[38;5;124;43m'\u001b[39;49m\u001b[43m)\u001b[49m \u001b[38;5;28;01mas\u001b[39;00m f:\n\u001b[0;32m    848\u001b[0m     \u001b[38;5;28;01myield\u001b[39;00m f\n",
      "\u001b[1;31mFileNotFoundError\u001b[0m: [Errno 2] No such file or directory: 'seaborn-darkgrid'",
      "\nThe above exception was the direct cause of the following exception:\n",
      "\u001b[1;31mOSError\u001b[0m                                   Traceback (most recent call last)",
      "Cell \u001b[1;32mIn[15], line 4\u001b[0m\n\u001b[0;32m      1\u001b[0m quantitative_columns \u001b[38;5;241m=\u001b[39m [\u001b[38;5;124m'\u001b[39m\u001b[38;5;124mprice\u001b[39m\u001b[38;5;124m'\u001b[39m, \u001b[38;5;124m'\u001b[39m\u001b[38;5;124mregistration_year\u001b[39m\u001b[38;5;124m'\u001b[39m, \u001b[38;5;124m'\u001b[39m\u001b[38;5;124mpower\u001b[39m\u001b[38;5;124m'\u001b[39m, \u001b[38;5;124m'\u001b[39m\u001b[38;5;124mkilometer\u001b[39m\u001b[38;5;124m'\u001b[39m, \u001b[38;5;124m'\u001b[39m\u001b[38;5;124mregistration_month\u001b[39m\u001b[38;5;124m'\u001b[39m, \u001b[38;5;124m'\u001b[39m\u001b[38;5;124mnumber_of_pictures\u001b[39m\u001b[38;5;124m'\u001b[39m, \u001b[38;5;124m'\u001b[39m\u001b[38;5;124mpostal_code\u001b[39m\u001b[38;5;124m'\u001b[39m]\n\u001b[0;32m      2\u001b[0m categorical_columns \u001b[38;5;241m=\u001b[39m [\u001b[38;5;124m'\u001b[39m\u001b[38;5;124mvehicle_type\u001b[39m\u001b[38;5;124m'\u001b[39m, \u001b[38;5;124m'\u001b[39m\u001b[38;5;124mgear_box\u001b[39m\u001b[38;5;124m'\u001b[39m, \u001b[38;5;124m'\u001b[39m\u001b[38;5;124mmodel\u001b[39m\u001b[38;5;124m'\u001b[39m, \u001b[38;5;124m'\u001b[39m\u001b[38;5;124mfuel_type\u001b[39m\u001b[38;5;124m'\u001b[39m, \u001b[38;5;124m'\u001b[39m\u001b[38;5;124mbrand\u001b[39m\u001b[38;5;124m'\u001b[39m, \u001b[38;5;124m'\u001b[39m\u001b[38;5;124mrepaired\u001b[39m\u001b[38;5;124m'\u001b[39m]\n\u001b[1;32m----> 4\u001b[0m \u001b[43mplt\u001b[49m\u001b[38;5;241;43m.\u001b[39;49m\u001b[43mstyle\u001b[49m\u001b[38;5;241;43m.\u001b[39;49m\u001b[43muse\u001b[49m\u001b[43m(\u001b[49m\u001b[38;5;124;43m'\u001b[39;49m\u001b[38;5;124;43mseaborn-darkgrid\u001b[39;49m\u001b[38;5;124;43m'\u001b[39;49m\u001b[43m)\u001b[49m\n\u001b[0;32m      6\u001b[0m fig, axes \u001b[38;5;241m=\u001b[39m plt\u001b[38;5;241m.\u001b[39msubplots(nrows\u001b[38;5;241m=\u001b[39m\u001b[38;5;241m4\u001b[39m, ncols\u001b[38;5;241m=\u001b[39m\u001b[38;5;241m2\u001b[39m, figsize\u001b[38;5;241m=\u001b[39m(\u001b[38;5;241m20\u001b[39m, \u001b[38;5;241m20\u001b[39m))\n\u001b[0;32m      7\u001b[0m axes \u001b[38;5;241m=\u001b[39m axes\u001b[38;5;241m.\u001b[39mflatten()\n",
      "File \u001b[1;32m~\\anaconda3\\envs\\practicum\\lib\\site-packages\\matplotlib\\style\\core.py:139\u001b[0m, in \u001b[0;36muse\u001b[1;34m(style)\u001b[0m\n\u001b[0;32m    137\u001b[0m         style \u001b[38;5;241m=\u001b[39m _rc_params_in_file(style)\n\u001b[0;32m    138\u001b[0m     \u001b[38;5;28;01mexcept\u001b[39;00m \u001b[38;5;167;01mOSError\u001b[39;00m \u001b[38;5;28;01mas\u001b[39;00m err:\n\u001b[1;32m--> 139\u001b[0m         \u001b[38;5;28;01mraise\u001b[39;00m \u001b[38;5;167;01mOSError\u001b[39;00m(\n\u001b[0;32m    140\u001b[0m             \u001b[38;5;124mf\u001b[39m\u001b[38;5;124m\"\u001b[39m\u001b[38;5;132;01m{\u001b[39;00mstyle\u001b[38;5;132;01m!r}\u001b[39;00m\u001b[38;5;124m is not a valid package style, path of style \u001b[39m\u001b[38;5;124m\"\u001b[39m\n\u001b[0;32m    141\u001b[0m             \u001b[38;5;124mf\u001b[39m\u001b[38;5;124m\"\u001b[39m\u001b[38;5;124mfile, URL of style file, or library style name (library \u001b[39m\u001b[38;5;124m\"\u001b[39m\n\u001b[0;32m    142\u001b[0m             \u001b[38;5;124mf\u001b[39m\u001b[38;5;124m\"\u001b[39m\u001b[38;5;124mstyles are listed in `style.available`)\u001b[39m\u001b[38;5;124m\"\u001b[39m) \u001b[38;5;28;01mfrom\u001b[39;00m \u001b[38;5;21;01merr\u001b[39;00m\n\u001b[0;32m    143\u001b[0m filtered \u001b[38;5;241m=\u001b[39m {}\n\u001b[0;32m    144\u001b[0m \u001b[38;5;28;01mfor\u001b[39;00m k \u001b[38;5;129;01min\u001b[39;00m style:  \u001b[38;5;66;03m# don't trigger RcParams.__getitem__('backend')\u001b[39;00m\n",
      "\u001b[1;31mOSError\u001b[0m: 'seaborn-darkgrid' is not a valid package style, path of style file, URL of style file, or library style name (library styles are listed in `style.available`)"
     ]
    }
   ],
   "source": [
    "quantitative_columns = ['price', 'registration_year', 'power', 'kilometer', 'registration_month', 'number_of_pictures', 'postal_code']\n",
    "categorical_columns = ['vehicle_type', 'gear_box', 'model', 'fuel_type', 'brand', 'repaired']\n",
    "\n",
    "plt.style.use('seaborn-darkgrid')\n",
    "\n",
    "fig, axes = plt.subplots(nrows=4, ncols=2, figsize=(20, 20))\n",
    "axes = axes.flatten()\n",
    "\n",
    "used_axes = 0\n",
    "for i, col in enumerate(quantitative_columns):\n",
    "    if col in ['registration_month', 'kilometer', 'registration_year']:\n",
    "        if col == 'registration_year':\n",
    "            top_values = df[col].value_counts().nlargest(20).index\n",
    "            sns.countplot(x=df[col], ax=axes[used_axes], order=top_values, palette='viridis')\n",
    "        else:\n",
    "            sns.countplot(x=df[col], ax=axes[used_axes], palette='viridis')\n",
    "    else:\n",
    "        if df[col].nunique() > 1:\n",
    "            sns.histplot(df[col], kde=True, ax=axes[used_axes], color='skyblue', edgecolor='black')\n",
    "        else:\n",
    "            sns.histplot(df[col], kde=False, ax=axes[used_axes], color='skyblue', edgecolor='black')\n",
    "    axes[used_axes].set_title(f'Распределение {col}', fontsize=15)\n",
    "    axes[used_axes].set_xlabel(col, fontsize=12)\n",
    "    axes[used_axes].set_ylabel('Частота', fontsize=12)\n",
    "    axes[used_axes].tick_params(axis='x', rotation=45)\n",
    "    used_axes += 1\n",
    "\n",
    "for j in range(used_axes, len(axes)):\n",
    "    fig.delaxes(axes[j])\n",
    "\n",
    "plt.tight_layout()\n",
    "plt.show()\n",
    "\n",
    "fig, axes = plt.subplots(nrows=3, ncols=2, figsize=(20, 15))\n",
    "axes = axes.flatten()\n",
    "\n",
    "used_axes = 0\n",
    "top_n = 10\n",
    "\n",
    "for i, col in enumerate(categorical_columns):\n",
    "    top_values = df[col].value_counts().nlargest(top_n).index\n",
    "    sns.countplot(y=df[col], ax=axes[used_axes], order=top_values, palette='viridis')\n",
    "    axes[used_axes].set_title(f'Распределение {col}', fontsize=15)\n",
    "    axes[used_axes].set_xlabel('Частота', fontsize=12)\n",
    "    axes[used_axes].set_ylabel(col, fontsize=12)\n",
    "    for p in axes[used_axes].patches:\n",
    "        width = p.get_width()\n",
    "        axes[used_axes].text(width + 0.02, p.get_y() + p.get_height() / 2, '{:1.2f}'.format(width), ha='center', va='center', fontsize=10)\n",
    "    used_axes += 1\n",
    "\n",
    "for j in range(used_axes, len(axes)):\n",
    "    fig.delaxes(axes[j])\n",
    "\n",
    "plt.tight_layout()\n",
    "plt.show()\n",
    "\n",
    "fig, axes = plt.subplots(nrows=4, ncols=2, figsize=(20, 20))\n",
    "axes = axes.flatten()\n",
    "\n",
    "used_axes = 0\n",
    "for i, col in enumerate(quantitative_columns):\n",
    "    if col not in ['registration_month', 'kilometer', 'registration_year']:\n",
    "        sns.boxplot(x=df[col], ax=axes[used_axes], color='lightgreen')\n",
    "        axes[used_axes].set_title(f'Боксплот {col}', fontsize=15)\n",
    "        axes[used_axes].set_xlabel(col, fontsize=12)\n",
    "        axes[used_axes].tick_params(axis='x', rotation=45)\n",
    "        used_axes += 1\n",
    "\n",
    "for j in range(used_axes, len(axes)):\n",
    "    fig.delaxes(axes[j])\n",
    "\n",
    "plt.tight_layout()\n",
    "plt.show()"
   ]
  },
  {
   "cell_type": "markdown",
   "metadata": {},
   "source": [
    "<div style=\"border:solid Chocolate 2px; padding: 40px\">\n",
    "    \n",
    "### Промежуточный вывод:\n",
    "\n",
    "1. Строк с нулевой ценой очень, удали 0.05 кванитли и 0.95 квантили\n",
    "2. Год регистрации показывает выбросов, которые являеяются ошибками в данных, можно было бы заменить все, что есть в промежутке до 1970 и после 2024 на медиану, но улчше избавиться от этих строк, чтобы модель потом не обучалась только на машинах 2003 года.\n",
    "3. Мощность в 0 лошадиных сил и больше 1000, оставим от 20 до 600\n",
    "4. Месяц регистрации показывает, что у нас 13 месяцев, на вряд ли это какая-то важная информация, но так как мы будем объединять два столбца год и месяц регистрации, поменяем 0 месяц на медиану\n",
    "5. Почтовый индекс также можно удалить, не вижу даже причины как это признак сможет помочь в обучении модели\n",
    "6. Также удаляем признак кол-во картинок"
   ]
  },
  {
   "cell_type": "code",
   "execution_count": 16,
   "metadata": {},
   "outputs": [],
   "source": [
    "lower_quantile = df['price'].quantile(0.05)\n",
    "upper_quantile = df['price'].quantile(0.95)\n",
    "df = df[(df['price'] >= lower_quantile) & (df['price'] <= upper_quantile)]"
   ]
  },
  {
   "cell_type": "code",
   "execution_count": 17,
   "metadata": {},
   "outputs": [],
   "source": [
    "max_date_crawled = df['date_crawled'].max()\n",
    "max_year = max_date_crawled.year\n",
    "\n",
    "\n",
    "df = df[(df['registration_year'] >= 1970) & (df['registration_year'] <= max_year)]"
   ]
  },
  {
   "cell_type": "code",
   "execution_count": 18,
   "metadata": {},
   "outputs": [],
   "source": [
    "df = df[(df['power'] >= 20) & (df['power'] <= 600)]"
   ]
  },
  {
   "cell_type": "code",
   "execution_count": 19,
   "metadata": {},
   "outputs": [],
   "source": [
    "median_month = df['registration_month'].median()\n",
    "df['registration_month'] = df['registration_month'].replace(0, median_month)"
   ]
  },
  {
   "cell_type": "code",
   "execution_count": 20,
   "metadata": {},
   "outputs": [],
   "source": [
    "df = df.drop(columns=['number_of_pictures', 'postal_code'])"
   ]
  },
  {
   "cell_type": "code",
   "execution_count": 21,
   "metadata": {},
   "outputs": [],
   "source": [
    "df['registration_date'] = pd.to_datetime(df['registration_year'].astype(int).astype(str) + '-' + df['registration_month'].astype(int).astype(str) + '-01')\n",
    "\n",
    "\n",
    "df = df.drop(columns=['registration_year', 'registration_month'])"
   ]
  },
  {
   "cell_type": "code",
   "execution_count": 22,
   "metadata": {},
   "outputs": [
    {
     "data": {
      "text/html": [
       "<div>\n",
       "<style scoped>\n",
       "    .dataframe tbody tr th:only-of-type {\n",
       "        vertical-align: middle;\n",
       "    }\n",
       "\n",
       "    .dataframe tbody tr th {\n",
       "        vertical-align: top;\n",
       "    }\n",
       "\n",
       "    .dataframe thead th {\n",
       "        text-align: right;\n",
       "    }\n",
       "</style>\n",
       "<table border=\"1\" class=\"dataframe\">\n",
       "  <thead>\n",
       "    <tr style=\"text-align: right;\">\n",
       "      <th></th>\n",
       "      <th>date_crawled</th>\n",
       "      <th>price</th>\n",
       "      <th>power</th>\n",
       "      <th>kilometer</th>\n",
       "      <th>date_created</th>\n",
       "      <th>last_seen</th>\n",
       "      <th>registration_date</th>\n",
       "    </tr>\n",
       "  </thead>\n",
       "  <tbody>\n",
       "    <tr>\n",
       "      <th>count</th>\n",
       "      <td>274982</td>\n",
       "      <td>274982.000000</td>\n",
       "      <td>274982.000000</td>\n",
       "      <td>274982.000000</td>\n",
       "      <td>274982</td>\n",
       "      <td>274982</td>\n",
       "      <td>274982</td>\n",
       "    </tr>\n",
       "    <tr>\n",
       "      <th>mean</th>\n",
       "      <td>2016-03-21 12:51:47.138849280</td>\n",
       "      <td>4169.318741</td>\n",
       "      <td>117.461328</td>\n",
       "      <td>130531.798445</td>\n",
       "      <td>2016-03-20 18:59:24.468946944</td>\n",
       "      <td>2016-03-30 01:34:58.189677824</td>\n",
       "      <td>2003-01-18 18:48:09.876428288</td>\n",
       "    </tr>\n",
       "    <tr>\n",
       "      <th>min</th>\n",
       "      <td>2016-03-05 14:06:23</td>\n",
       "      <td>200.000000</td>\n",
       "      <td>20.000000</td>\n",
       "      <td>5000.000000</td>\n",
       "      <td>2015-03-20 00:00:00</td>\n",
       "      <td>2016-03-05 14:15:08</td>\n",
       "      <td>1970-01-01 00:00:00</td>\n",
       "    </tr>\n",
       "    <tr>\n",
       "      <th>25%</th>\n",
       "      <td>2016-03-13 11:38:14.249999872</td>\n",
       "      <td>1300.000000</td>\n",
       "      <td>75.000000</td>\n",
       "      <td>125000.000000</td>\n",
       "      <td>2016-03-13 00:00:00</td>\n",
       "      <td>2016-03-23 07:47:55</td>\n",
       "      <td>1999-06-01 00:00:00</td>\n",
       "    </tr>\n",
       "    <tr>\n",
       "      <th>50%</th>\n",
       "      <td>2016-03-21 17:50:09</td>\n",
       "      <td>2980.000000</td>\n",
       "      <td>109.000000</td>\n",
       "      <td>150000.000000</td>\n",
       "      <td>2016-03-21 00:00:00</td>\n",
       "      <td>2016-04-03 17:52:44</td>\n",
       "      <td>2003-03-01 00:00:00</td>\n",
       "    </tr>\n",
       "    <tr>\n",
       "      <th>75%</th>\n",
       "      <td>2016-03-29 14:39:12.750000128</td>\n",
       "      <td>6200.000000</td>\n",
       "      <td>143.000000</td>\n",
       "      <td>150000.000000</td>\n",
       "      <td>2016-03-29 00:00:00</td>\n",
       "      <td>2016-04-06 10:17:06</td>\n",
       "      <td>2007-02-01 00:00:00</td>\n",
       "    </tr>\n",
       "    <tr>\n",
       "      <th>max</th>\n",
       "      <td>2016-04-07 14:36:58</td>\n",
       "      <td>14600.000000</td>\n",
       "      <td>600.000000</td>\n",
       "      <td>150000.000000</td>\n",
       "      <td>2016-04-07 00:00:00</td>\n",
       "      <td>2016-04-07 14:58:51</td>\n",
       "      <td>2016-12-01 00:00:00</td>\n",
       "    </tr>\n",
       "    <tr>\n",
       "      <th>std</th>\n",
       "      <td>NaN</td>\n",
       "      <td>3577.364963</td>\n",
       "      <td>50.292472</td>\n",
       "      <td>34748.239920</td>\n",
       "      <td>NaN</td>\n",
       "      <td>NaN</td>\n",
       "      <td>NaN</td>\n",
       "    </tr>\n",
       "  </tbody>\n",
       "</table>\n",
       "</div>"
      ],
      "text/plain": [
       "                        date_crawled          price          power  \\\n",
       "count                         274982  274982.000000  274982.000000   \n",
       "mean   2016-03-21 12:51:47.138849280    4169.318741     117.461328   \n",
       "min              2016-03-05 14:06:23     200.000000      20.000000   \n",
       "25%    2016-03-13 11:38:14.249999872    1300.000000      75.000000   \n",
       "50%              2016-03-21 17:50:09    2980.000000     109.000000   \n",
       "75%    2016-03-29 14:39:12.750000128    6200.000000     143.000000   \n",
       "max              2016-04-07 14:36:58   14600.000000     600.000000   \n",
       "std                              NaN    3577.364963      50.292472   \n",
       "\n",
       "           kilometer                   date_created  \\\n",
       "count  274982.000000                         274982   \n",
       "mean   130531.798445  2016-03-20 18:59:24.468946944   \n",
       "min      5000.000000            2015-03-20 00:00:00   \n",
       "25%    125000.000000            2016-03-13 00:00:00   \n",
       "50%    150000.000000            2016-03-21 00:00:00   \n",
       "75%    150000.000000            2016-03-29 00:00:00   \n",
       "max    150000.000000            2016-04-07 00:00:00   \n",
       "std     34748.239920                            NaN   \n",
       "\n",
       "                           last_seen              registration_date  \n",
       "count                         274982                         274982  \n",
       "mean   2016-03-30 01:34:58.189677824  2003-01-18 18:48:09.876428288  \n",
       "min              2016-03-05 14:15:08            1970-01-01 00:00:00  \n",
       "25%              2016-03-23 07:47:55            1999-06-01 00:00:00  \n",
       "50%              2016-04-03 17:52:44            2003-03-01 00:00:00  \n",
       "75%              2016-04-06 10:17:06            2007-02-01 00:00:00  \n",
       "max              2016-04-07 14:58:51            2016-12-01 00:00:00  \n",
       "std                              NaN                            NaN  "
      ]
     },
     "execution_count": 22,
     "metadata": {},
     "output_type": "execute_result"
    }
   ],
   "source": [
    "df.describe()"
   ]
  },
  {
   "cell_type": "code",
   "execution_count": 23,
   "metadata": {},
   "outputs": [
    {
     "data": {
      "text/html": [
       "<div>\n",
       "<style scoped>\n",
       "    .dataframe tbody tr th:only-of-type {\n",
       "        vertical-align: middle;\n",
       "    }\n",
       "\n",
       "    .dataframe tbody tr th {\n",
       "        vertical-align: top;\n",
       "    }\n",
       "\n",
       "    .dataframe thead th {\n",
       "        text-align: right;\n",
       "    }\n",
       "</style>\n",
       "<table border=\"1\" class=\"dataframe\">\n",
       "  <thead>\n",
       "    <tr style=\"text-align: right;\">\n",
       "      <th></th>\n",
       "      <th>date_crawled</th>\n",
       "      <th>price</th>\n",
       "      <th>vehicle_type</th>\n",
       "      <th>gear_box</th>\n",
       "      <th>power</th>\n",
       "      <th>model</th>\n",
       "      <th>kilometer</th>\n",
       "      <th>fuel_type</th>\n",
       "      <th>brand</th>\n",
       "      <th>repaired</th>\n",
       "      <th>date_created</th>\n",
       "      <th>last_seen</th>\n",
       "      <th>registration_date</th>\n",
       "    </tr>\n",
       "  </thead>\n",
       "  <tbody>\n",
       "    <tr>\n",
       "      <th>2</th>\n",
       "      <td>2016-03-14 12:52:21</td>\n",
       "      <td>9800</td>\n",
       "      <td>suv</td>\n",
       "      <td>auto</td>\n",
       "      <td>163</td>\n",
       "      <td>grand</td>\n",
       "      <td>125000</td>\n",
       "      <td>petrol</td>\n",
       "      <td>jeep</td>\n",
       "      <td>unknown</td>\n",
       "      <td>2016-03-14</td>\n",
       "      <td>2016-04-05 12:47:46</td>\n",
       "      <td>2004-08-01</td>\n",
       "    </tr>\n",
       "    <tr>\n",
       "      <th>3</th>\n",
       "      <td>2016-03-17 16:54:04</td>\n",
       "      <td>1500</td>\n",
       "      <td>small</td>\n",
       "      <td>manual</td>\n",
       "      <td>75</td>\n",
       "      <td>golf</td>\n",
       "      <td>150000</td>\n",
       "      <td>petrol</td>\n",
       "      <td>volkswagen</td>\n",
       "      <td>no</td>\n",
       "      <td>2016-03-17</td>\n",
       "      <td>2016-03-17 17:40:17</td>\n",
       "      <td>2001-06-01</td>\n",
       "    </tr>\n",
       "    <tr>\n",
       "      <th>4</th>\n",
       "      <td>2016-03-31 17:25:20</td>\n",
       "      <td>3600</td>\n",
       "      <td>small</td>\n",
       "      <td>manual</td>\n",
       "      <td>69</td>\n",
       "      <td>fabia</td>\n",
       "      <td>90000</td>\n",
       "      <td>petrol</td>\n",
       "      <td>skoda</td>\n",
       "      <td>no</td>\n",
       "      <td>2016-03-31</td>\n",
       "      <td>2016-04-06 10:17:21</td>\n",
       "      <td>2008-07-01</td>\n",
       "    </tr>\n",
       "    <tr>\n",
       "      <th>5</th>\n",
       "      <td>2016-04-04 17:36:23</td>\n",
       "      <td>650</td>\n",
       "      <td>sedan</td>\n",
       "      <td>manual</td>\n",
       "      <td>102</td>\n",
       "      <td>3er</td>\n",
       "      <td>150000</td>\n",
       "      <td>petrol</td>\n",
       "      <td>bmw</td>\n",
       "      <td>yes</td>\n",
       "      <td>2016-04-04</td>\n",
       "      <td>2016-04-06 19:17:07</td>\n",
       "      <td>1995-10-01</td>\n",
       "    </tr>\n",
       "    <tr>\n",
       "      <th>6</th>\n",
       "      <td>2016-04-01 20:48:51</td>\n",
       "      <td>2200</td>\n",
       "      <td>convertible</td>\n",
       "      <td>manual</td>\n",
       "      <td>109</td>\n",
       "      <td>2_reihe</td>\n",
       "      <td>150000</td>\n",
       "      <td>petrol</td>\n",
       "      <td>peugeot</td>\n",
       "      <td>no</td>\n",
       "      <td>2016-04-01</td>\n",
       "      <td>2016-04-05 18:18:39</td>\n",
       "      <td>2004-08-01</td>\n",
       "    </tr>\n",
       "  </tbody>\n",
       "</table>\n",
       "</div>"
      ],
      "text/plain": [
       "         date_crawled  price vehicle_type gear_box  power    model  kilometer  \\\n",
       "2 2016-03-14 12:52:21   9800          suv     auto    163    grand     125000   \n",
       "3 2016-03-17 16:54:04   1500        small   manual     75     golf     150000   \n",
       "4 2016-03-31 17:25:20   3600        small   manual     69    fabia      90000   \n",
       "5 2016-04-04 17:36:23    650        sedan   manual    102      3er     150000   \n",
       "6 2016-04-01 20:48:51   2200  convertible   manual    109  2_reihe     150000   \n",
       "\n",
       "  fuel_type       brand repaired date_created           last_seen  \\\n",
       "2    petrol        jeep  unknown   2016-03-14 2016-04-05 12:47:46   \n",
       "3    petrol  volkswagen       no   2016-03-17 2016-03-17 17:40:17   \n",
       "4    petrol       skoda       no   2016-03-31 2016-04-06 10:17:21   \n",
       "5    petrol         bmw      yes   2016-04-04 2016-04-06 19:17:07   \n",
       "6    petrol     peugeot       no   2016-04-01 2016-04-05 18:18:39   \n",
       "\n",
       "  registration_date  \n",
       "2        2004-08-01  \n",
       "3        2001-06-01  \n",
       "4        2008-07-01  \n",
       "5        1995-10-01  \n",
       "6        2004-08-01  "
      ]
     },
     "metadata": {},
     "output_type": "display_data"
    }
   ],
   "source": [
    "display(df.head())"
   ]
  },
  {
   "cell_type": "markdown",
   "metadata": {},
   "source": [
    "<div style=\"border:solid Chocolate 2px; padding: 40px\">\n",
    "    \n",
    "Также удаляем date_crawled, date_created и last_seen, эти столбцы никак не смогут помочь модели"
   ]
  },
  {
   "cell_type": "code",
   "execution_count": 24,
   "metadata": {},
   "outputs": [],
   "source": [
    "df = df.drop(columns=['date_crawled', 'date_created', 'last_seen'])"
   ]
  },
  {
   "cell_type": "markdown",
   "metadata": {},
   "source": [
    "<div style=\"border:solid Chocolate 2px; padding: 40px\">\n",
    "    \n",
    "Посмотрим на обновленные графики"
   ]
  },
  {
   "cell_type": "code",
   "execution_count": 25,
   "metadata": {},
   "outputs": [
    {
     "ename": "OSError",
     "evalue": "'seaborn-darkgrid' is not a valid package style, path of style file, URL of style file, or library style name (library styles are listed in `style.available`)",
     "output_type": "error",
     "traceback": [
      "\u001b[1;31m---------------------------------------------------------------------------\u001b[0m",
      "\u001b[1;31mFileNotFoundError\u001b[0m                         Traceback (most recent call last)",
      "File \u001b[1;32m~\\anaconda3\\envs\\practicum\\lib\\site-packages\\matplotlib\\style\\core.py:137\u001b[0m, in \u001b[0;36muse\u001b[1;34m(style)\u001b[0m\n\u001b[0;32m    136\u001b[0m \u001b[38;5;28;01mtry\u001b[39;00m:\n\u001b[1;32m--> 137\u001b[0m     style \u001b[38;5;241m=\u001b[39m \u001b[43m_rc_params_in_file\u001b[49m\u001b[43m(\u001b[49m\u001b[43mstyle\u001b[49m\u001b[43m)\u001b[49m\n\u001b[0;32m    138\u001b[0m \u001b[38;5;28;01mexcept\u001b[39;00m \u001b[38;5;167;01mOSError\u001b[39;00m \u001b[38;5;28;01mas\u001b[39;00m err:\n",
      "File \u001b[1;32m~\\anaconda3\\envs\\practicum\\lib\\site-packages\\matplotlib\\__init__.py:870\u001b[0m, in \u001b[0;36m_rc_params_in_file\u001b[1;34m(fname, transform, fail_on_error)\u001b[0m\n\u001b[0;32m    869\u001b[0m rc_temp \u001b[38;5;241m=\u001b[39m {}\n\u001b[1;32m--> 870\u001b[0m \u001b[38;5;28;01mwith\u001b[39;00m _open_file_or_url(fname) \u001b[38;5;28;01mas\u001b[39;00m fd:\n\u001b[0;32m    871\u001b[0m     \u001b[38;5;28;01mtry\u001b[39;00m:\n",
      "File \u001b[1;32m~\\anaconda3\\envs\\practicum\\lib\\contextlib.py:119\u001b[0m, in \u001b[0;36m_GeneratorContextManager.__enter__\u001b[1;34m(self)\u001b[0m\n\u001b[0;32m    118\u001b[0m \u001b[38;5;28;01mtry\u001b[39;00m:\n\u001b[1;32m--> 119\u001b[0m     \u001b[38;5;28;01mreturn\u001b[39;00m \u001b[38;5;28;43mnext\u001b[39;49m\u001b[43m(\u001b[49m\u001b[38;5;28;43mself\u001b[39;49m\u001b[38;5;241;43m.\u001b[39;49m\u001b[43mgen\u001b[49m\u001b[43m)\u001b[49m\n\u001b[0;32m    120\u001b[0m \u001b[38;5;28;01mexcept\u001b[39;00m \u001b[38;5;167;01mStopIteration\u001b[39;00m:\n",
      "File \u001b[1;32m~\\anaconda3\\envs\\practicum\\lib\\site-packages\\matplotlib\\__init__.py:847\u001b[0m, in \u001b[0;36m_open_file_or_url\u001b[1;34m(fname)\u001b[0m\n\u001b[0;32m    846\u001b[0m fname \u001b[38;5;241m=\u001b[39m os\u001b[38;5;241m.\u001b[39mpath\u001b[38;5;241m.\u001b[39mexpanduser(fname)\n\u001b[1;32m--> 847\u001b[0m \u001b[38;5;28;01mwith\u001b[39;00m \u001b[38;5;28;43mopen\u001b[39;49m\u001b[43m(\u001b[49m\u001b[43mfname\u001b[49m\u001b[43m,\u001b[49m\u001b[43m \u001b[49m\u001b[43mencoding\u001b[49m\u001b[38;5;241;43m=\u001b[39;49m\u001b[38;5;124;43m'\u001b[39;49m\u001b[38;5;124;43mutf-8\u001b[39;49m\u001b[38;5;124;43m'\u001b[39;49m\u001b[43m)\u001b[49m \u001b[38;5;28;01mas\u001b[39;00m f:\n\u001b[0;32m    848\u001b[0m     \u001b[38;5;28;01myield\u001b[39;00m f\n",
      "\u001b[1;31mFileNotFoundError\u001b[0m: [Errno 2] No such file or directory: 'seaborn-darkgrid'",
      "\nThe above exception was the direct cause of the following exception:\n",
      "\u001b[1;31mOSError\u001b[0m                                   Traceback (most recent call last)",
      "Cell \u001b[1;32mIn[25], line 4\u001b[0m\n\u001b[0;32m      1\u001b[0m quantitative_columns \u001b[38;5;241m=\u001b[39m [\u001b[38;5;124m'\u001b[39m\u001b[38;5;124mprice\u001b[39m\u001b[38;5;124m'\u001b[39m, \u001b[38;5;124m'\u001b[39m\u001b[38;5;124mpower\u001b[39m\u001b[38;5;124m'\u001b[39m, \u001b[38;5;124m'\u001b[39m\u001b[38;5;124mkilometer\u001b[39m\u001b[38;5;124m'\u001b[39m]\n\u001b[0;32m      2\u001b[0m categorical_columns \u001b[38;5;241m=\u001b[39m [\u001b[38;5;124m'\u001b[39m\u001b[38;5;124mvehicle_type\u001b[39m\u001b[38;5;124m'\u001b[39m, \u001b[38;5;124m'\u001b[39m\u001b[38;5;124mgear_box\u001b[39m\u001b[38;5;124m'\u001b[39m, \u001b[38;5;124m'\u001b[39m\u001b[38;5;124mmodel\u001b[39m\u001b[38;5;124m'\u001b[39m, \u001b[38;5;124m'\u001b[39m\u001b[38;5;124mfuel_type\u001b[39m\u001b[38;5;124m'\u001b[39m, \u001b[38;5;124m'\u001b[39m\u001b[38;5;124mbrand\u001b[39m\u001b[38;5;124m'\u001b[39m, \u001b[38;5;124m'\u001b[39m\u001b[38;5;124mrepaired\u001b[39m\u001b[38;5;124m'\u001b[39m]\n\u001b[1;32m----> 4\u001b[0m \u001b[43mplt\u001b[49m\u001b[38;5;241;43m.\u001b[39;49m\u001b[43mstyle\u001b[49m\u001b[38;5;241;43m.\u001b[39;49m\u001b[43muse\u001b[49m\u001b[43m(\u001b[49m\u001b[38;5;124;43m'\u001b[39;49m\u001b[38;5;124;43mseaborn-darkgrid\u001b[39;49m\u001b[38;5;124;43m'\u001b[39;49m\u001b[43m)\u001b[49m\n\u001b[0;32m      6\u001b[0m fig, axes \u001b[38;5;241m=\u001b[39m plt\u001b[38;5;241m.\u001b[39msubplots(nrows\u001b[38;5;241m=\u001b[39m\u001b[38;5;241m4\u001b[39m, ncols\u001b[38;5;241m=\u001b[39m\u001b[38;5;241m2\u001b[39m, figsize\u001b[38;5;241m=\u001b[39m(\u001b[38;5;241m20\u001b[39m, \u001b[38;5;241m20\u001b[39m))\n\u001b[0;32m      7\u001b[0m axes \u001b[38;5;241m=\u001b[39m axes\u001b[38;5;241m.\u001b[39mflatten()\n",
      "File \u001b[1;32m~\\anaconda3\\envs\\practicum\\lib\\site-packages\\matplotlib\\style\\core.py:139\u001b[0m, in \u001b[0;36muse\u001b[1;34m(style)\u001b[0m\n\u001b[0;32m    137\u001b[0m         style \u001b[38;5;241m=\u001b[39m _rc_params_in_file(style)\n\u001b[0;32m    138\u001b[0m     \u001b[38;5;28;01mexcept\u001b[39;00m \u001b[38;5;167;01mOSError\u001b[39;00m \u001b[38;5;28;01mas\u001b[39;00m err:\n\u001b[1;32m--> 139\u001b[0m         \u001b[38;5;28;01mraise\u001b[39;00m \u001b[38;5;167;01mOSError\u001b[39;00m(\n\u001b[0;32m    140\u001b[0m             \u001b[38;5;124mf\u001b[39m\u001b[38;5;124m\"\u001b[39m\u001b[38;5;132;01m{\u001b[39;00mstyle\u001b[38;5;132;01m!r}\u001b[39;00m\u001b[38;5;124m is not a valid package style, path of style \u001b[39m\u001b[38;5;124m\"\u001b[39m\n\u001b[0;32m    141\u001b[0m             \u001b[38;5;124mf\u001b[39m\u001b[38;5;124m\"\u001b[39m\u001b[38;5;124mfile, URL of style file, or library style name (library \u001b[39m\u001b[38;5;124m\"\u001b[39m\n\u001b[0;32m    142\u001b[0m             \u001b[38;5;124mf\u001b[39m\u001b[38;5;124m\"\u001b[39m\u001b[38;5;124mstyles are listed in `style.available`)\u001b[39m\u001b[38;5;124m\"\u001b[39m) \u001b[38;5;28;01mfrom\u001b[39;00m \u001b[38;5;21;01merr\u001b[39;00m\n\u001b[0;32m    143\u001b[0m filtered \u001b[38;5;241m=\u001b[39m {}\n\u001b[0;32m    144\u001b[0m \u001b[38;5;28;01mfor\u001b[39;00m k \u001b[38;5;129;01min\u001b[39;00m style:  \u001b[38;5;66;03m# don't trigger RcParams.__getitem__('backend')\u001b[39;00m\n",
      "\u001b[1;31mOSError\u001b[0m: 'seaborn-darkgrid' is not a valid package style, path of style file, URL of style file, or library style name (library styles are listed in `style.available`)"
     ]
    }
   ],
   "source": [
    "quantitative_columns = ['price', 'power', 'kilometer']\n",
    "categorical_columns = ['vehicle_type', 'gear_box', 'model', 'fuel_type', 'brand', 'repaired']\n",
    "\n",
    "plt.style.use('seaborn-darkgrid')\n",
    "\n",
    "fig, axes = plt.subplots(nrows=4, ncols=2, figsize=(20, 20))\n",
    "axes = axes.flatten()\n",
    "\n",
    "used_axes = 0\n",
    "for i, col in enumerate(quantitative_columns):\n",
    "    if col in ['registration_month', 'kilometer', 'registration_year']:\n",
    "        if col == 'registration_year':\n",
    "            top_values = df[col].value_counts().nlargest(20).index\n",
    "            sns.countplot(x=df[col], ax=axes[used_axes], order=top_values, palette='viridis')\n",
    "        else:\n",
    "            sns.countplot(x=df[col], ax=axes[used_axes], palette='viridis')\n",
    "    else:\n",
    "        if df[col].nunique() > 1:\n",
    "            sns.histplot(df[col], kde=True, ax=axes[used_axes], color='skyblue', edgecolor='black')\n",
    "        else:\n",
    "            sns.histplot(df[col], kde=False, ax=axes[used_axes], color='skyblue', edgecolor='black')\n",
    "    axes[used_axes].set_title(f'Распределение {col}', fontsize=15)\n",
    "    axes[used_axes].set_xlabel(col, fontsize=12)\n",
    "    axes[used_axes].set_ylabel('Частота', fontsize=12)\n",
    "    axes[used_axes].tick_params(axis='x', rotation=45)\n",
    "    used_axes += 1\n",
    "\n",
    "for j in range(used_axes, len(axes)):\n",
    "    fig.delaxes(axes[j])\n",
    "\n",
    "plt.tight_layout()\n",
    "plt.show()\n",
    "\n",
    "fig, axes = plt.subplots(nrows=3, ncols=2, figsize=(20, 15))\n",
    "axes = axes.flatten()\n",
    "\n",
    "used_axes = 0\n",
    "top_n = 10\n",
    "\n",
    "for i, col in enumerate(categorical_columns):\n",
    "    top_values = df[col].value_counts().nlargest(top_n).index\n",
    "    sns.countplot(y=df[col], ax=axes[used_axes], order=top_values, palette='viridis')\n",
    "    axes[used_axes].set_title(f'Распределение {col}', fontsize=15)\n",
    "    axes[used_axes].set_xlabel('Частота', fontsize=12)\n",
    "    axes[used_axes].set_ylabel(col, fontsize=12)\n",
    "    for p in axes[used_axes].patches:\n",
    "        width = p.get_width()\n",
    "        axes[used_axes].text(width + 0.02, p.get_y() + p.get_height() / 2, '{:1.2f}'.format(width), ha='center', va='center', fontsize=10)\n",
    "    used_axes += 1\n",
    "\n",
    "for j in range(used_axes, len(axes)):\n",
    "    fig.delaxes(axes[j])\n",
    "\n",
    "plt.tight_layout()\n",
    "plt.show()\n",
    "\n",
    "fig, axes = plt.subplots(nrows=4, ncols=2, figsize=(20, 20))\n",
    "axes = axes.flatten()\n",
    "\n",
    "used_axes = 0\n",
    "for i, col in enumerate(quantitative_columns):\n",
    "    if col not in ['registration_month', 'kilometer', 'registration_year']:\n",
    "        sns.boxplot(x=df[col], ax=axes[used_axes], color='lightgreen')\n",
    "        axes[used_axes].set_title(f'Боксплот {col}', fontsize=15)\n",
    "        axes[used_axes].set_xlabel(col, fontsize=12)\n",
    "        axes[used_axes].tick_params(axis='x', rotation=45)\n",
    "        used_axes += 1\n",
    "\n",
    "for j in range(used_axes, len(axes)):\n",
    "    fig.delaxes(axes[j])\n",
    "\n",
    "plt.tight_layout()\n",
    "plt.show()"
   ]
  },
  {
   "cell_type": "markdown",
   "metadata": {},
   "source": [
    "<div style=\"border:solid Chocolate 2px; padding: 40px\">\n",
    "    \n",
    "### Промежуточный вывод:\n",
    "    \n",
    "Распределение стало чуть больше похоже на нормальное\n",
    "    \n",
    "Боксплоты показывают выбросы, но в целом, есть такие авто, которые входят в нынешний диапозон\n",
    "    \n",
    "А также поменяем год и месяц регистрации авто в числовой формат"
   ]
  },
  {
   "cell_type": "code",
   "execution_count": 26,
   "metadata": {},
   "outputs": [
    {
     "name": "stdout",
     "output_type": "stream",
     "text": [
      "<class 'pandas.core.frame.DataFrame'>\n",
      "Index: 274982 entries, 2 to 354368\n",
      "Data columns (total 10 columns):\n",
      " #   Column             Non-Null Count   Dtype \n",
      "---  ------             --------------   ----- \n",
      " 0   price              274982 non-null  int64 \n",
      " 1   vehicle_type       274982 non-null  object\n",
      " 2   gear_box           274982 non-null  object\n",
      " 3   power              274982 non-null  int64 \n",
      " 4   model              274982 non-null  object\n",
      " 5   kilometer          274982 non-null  int64 \n",
      " 6   fuel_type          274982 non-null  object\n",
      " 7   brand              274982 non-null  object\n",
      " 8   repaired           274982 non-null  object\n",
      " 9   registration_date  274982 non-null  int64 \n",
      "dtypes: int64(4), object(6)\n",
      "memory usage: 23.1+ MB\n"
     ]
    }
   ],
   "source": [
    "df['registration_date'] = df['registration_date'].astype('int64') // 10**9\n",
    "df.info()"
   ]
  },
  {
   "cell_type": "markdown",
   "metadata": {},
   "source": [
    "<div style=\"border:solid Chocolate 2px; padding: 40px\">\n",
    "    \n",
    "### 1.4 Анализ корреляции"
   ]
  },
  {
   "cell_type": "markdown",
   "metadata": {},
   "source": [
    "<div style=\"border:solid Chocolate 2px; padding: 40px\">\n",
    "    \n",
    " Так как у нас есть и категориальные и числовые признаки, с не нормальным распределением используем корреляцию phik"
   ]
  },
  {
   "cell_type": "code",
   "execution_count": 27,
   "metadata": {},
   "outputs": [
    {
     "data": {
      "image/png": "[encoded data removed]",
      "text/plain": [
       "<Figure size 1000x800 with 2 Axes>"
      ]
     },
     "metadata": {},
     "output_type": "display_data"
    }
   ],
   "source": [
    "interval_cols = ['price', 'power']\n",
    "phik_matrix = df.phik_matrix(interval_cols=interval_cols)\n",
    "\n",
    "plt.figure(figsize=(10, 8))\n",
    "sns.heatmap(phik_matrix, annot=True, cmap='coolwarm')\n",
    "plt.title('Phik Correlation Matrix')\n",
    "plt.show()"
   ]
  },
  {
   "cell_type": "markdown",
   "metadata": {},
   "source": [
    "<div style=\"border:solid Chocolate 2px; padding: 40px\">\n",
    "    \n",
    "### Промежуточный вывод:\n",
    "    \n",
    "Цена (price):\n",
    "\n",
    "Имеет высокую корреляцию с датой регистрации (registration_date) — 0.68.\n",
    "    \n",
    "Модель автомобиля (model) — 0.56\n",
    "    \n",
    "Мощность (power) — 0.48.\n",
    "    \n",
    "Тип транспортного средства (vehicle_type):\n",
    "\n",
    "Сильно коррелирует с моделью (model) — 0.9.\n",
    "    \n",
    "Дата регистрации (registration_date) — 0.72.\n",
    "    \n",
    "Коробка передач (gear_box):\n",
    "\n",
    "Коррелирует с моделью (model) — 0.62.\n",
    "    \n",
    "Тип транспортного средства (vehicle_type) — 0.37.\n",
    "    \n",
    "Мощность (power):\n",
    "\n",
    "Коррелирует с моделью (model) — 0.76.\n",
    "    \n",
    "Цена (price) — 0.48.\n",
    "    \n",
    "Тип транспортного средства (vehicle_type) — 0.47.\n",
    "    \n",
    "Модель (model):\n",
    "\n",
    "Сильно коррелирует с типом транспортного средства (vehicle_type) — 0.9.\n",
    "    \n",
    "Мощность (power) — 0.76.\n",
    "    \n",
    "Дата регистрации (registration_date) — 0.77.\n",
    "    \n",
    "Пробег (kilometer):\n",
    "\n",
    "Имеет слабую корреляцию с другими переменными.\n",
    "    \n",
    "Тип топлива (fuel_type):\n",
    "\n",
    "Коррелирует с маркой (brand) — 0.32.\n",
    "    \n",
    "Модель (model) — 0.53.\n",
    "    \n",
    "Марка (brand):\n",
    "\n",
    "Коррелирует с типом транспортного средства (vehicle_type) — 0.59.\n",
    "    \n",
    "Коробка передач (gear_box) — 0.52.\n",
    "    \n",
    "Ремонт (repaired):\n",
    "\n",
    "Не имеет сильной корреляции с другими переменными.\n",
    "    \n",
    "\n",
    "    \n",
    "### Есть плохая новость, что присутствует мультиколлинеарность, модель коррелирует с типом кузова, что может помешать модели обучаться, однако убирать какой-либо из признаков будет неправильно, потому что оба признака должны играть особую роль в обучении\n",
    "    \n",
    "### Можем начинать делить выборки"
   ]
  },
  {
   "cell_type": "markdown",
   "metadata": {},
   "source": [
    "<div style=\"border:solid Chocolate 2px; padding: 40px\">\n",
    "    \n",
    "### 1.5 Разделение датасета на выборки"
   ]
  },
  {
   "cell_type": "code",
   "execution_count": 28,
   "metadata": {},
   "outputs": [],
   "source": [
    "X = df.drop('price', axis=1)\n",
    "y = df.price\n",
    "\n",
    "X_train, X_test, y_train, y_test = train_test_split(X, y, test_size=0.2, random_state=42)\n",
    "\n",
    "categorical_features = ['vehicle_type', 'gear_box', 'model', 'fuel_type', 'brand', 'repaired']\n",
    "numerical_features = ['power', 'kilometer', 'registration_date']\n",
    "\n",
    "preprocessor_lr = ColumnTransformer(\n",
    "    transformers=[\n",
    "        ('num', 'passthrough', numerical_features),\n",
    "        ('cat', OneHotEncoder(handle_unknown='ignore', drop='first'), categorical_features)\n",
    "    ])"
   ]
  },
  {
   "cell_type": "markdown",
   "metadata": {},
   "source": [
    "##  2. Обучение моделей"
   ]
  },
  {
   "cell_type": "markdown",
   "metadata": {},
   "source": [
    "<div style=\"border:solid Chocolate 2px; padding: 40px\">\n",
    "    \n",
    "### 2.1 Линейная регрессия"
   ]
  },
  {
   "cell_type": "code",
   "execution_count": 29,
   "metadata": {},
   "outputs": [
    {
     "name": "stderr",
     "output_type": "stream",
     "text": [
      "C:\\Users\\User\\anaconda3\\envs\\practicum\\lib\\site-packages\\sklearn\\preprocessing\\_encoders.py:188: UserWarning: Found unknown categories in columns [2] during transform. These unknown categories will be encoded as all zeros\n",
      "  warnings.warn(\n"
     ]
    },
    {
     "name": "stdout",
     "output_type": "stream",
     "text": [
      "Среднее значение RMSE на кросс-валидации для Linear Regression: 2992.0835350486986\n",
      "Время обучения для Linear Regression: 0.5306932926177979\n",
      "Время предсказания на обучающей выборке для Linear Regression: 0.5178697109222412\n"
     ]
    },
    {
     "name": "stderr",
     "output_type": "stream",
     "text": [
      "C:\\Users\\User\\anaconda3\\envs\\practicum\\lib\\site-packages\\sklearn\\preprocessing\\_encoders.py:188: UserWarning: Found unknown categories in columns [2] during transform. These unknown categories will be encoded as all zeros\n",
      "  warnings.warn(\n"
     ]
    }
   ],
   "source": [
    "pipeline_lr = Pipeline(steps=[\n",
    "    ('preprocessor', preprocessor_lr),\n",
    "    ('regressor', LinearRegression())\n",
    "])\n",
    "# Время обучения линейной регрессии\n",
    "start = time.time()\n",
    "pipeline_lr.fit(X_train, y_train)\n",
    "end = time.time()\n",
    "t_lr_train = end - start\n",
    "\n",
    "# Время предсказания на обучающей выборке линейной регрессии\n",
    "start = time.time()\n",
    "y_pred_train_lr = pipeline_lr.predict(X_train)\n",
    "end = time.time()\n",
    "t_lr_predict_train = end - start\n",
    "\n",
    "# Кросс-валидация для оценки RMSE\n",
    "cv_scores_lr = cross_val_score(pipeline_lr, X_train, y_train, cv=5, scoring='neg_mean_squared_error')\n",
    "mean_cv_rmse_lr = (-cv_scores_lr.mean()) ** 0.5\n",
    "\n",
    "print(f'Среднее значение RMSE на кросс-валидации для Linear Regression: {mean_cv_rmse_lr}')\n",
    "print(f'Время обучения для Linear Regression: {t_lr_train}')\n",
    "print(f'Время предсказания на обучающей выборке для Linear Regression: {t_lr_predict_train}')"
   ]
  },
  {
   "cell_type": "markdown",
   "metadata": {},
   "source": [
    "<div style=\"border:solid Chocolate 2px; padding: 40px\">\n",
    "    \n",
    "### Промежуточный вывод:\n",
    "    \n",
    "- Среднее значение RMSE на кросс-валидации для Linear Regression: 2992.0835351005735\n",
    "- Время обучения для Linear Regression: 0.5681109428405762\n",
    "- Время предсказания на обучающей выборке для Linear Regression: 0.47965526580810547"
   ]
  },
  {
   "cell_type": "markdown",
   "metadata": {},
   "source": [
    "<div style=\"border:solid Chocolate 2px; padding: 40px\">\n",
    "    \n",
    "### 2.2 CatBoost"
   ]
  },
  {
   "cell_type": "code",
   "execution_count": 30,
   "metadata": {},
   "outputs": [
    {
     "name": "stdout",
     "output_type": "stream",
     "text": [
      "Среднее значение RMSE на кросс-валидации для CatBoost: 1307.087269656223\n",
      "Время обучения для CatBoost: 9.710723400115967\n",
      "Время предсказания на обучающей выборке для CatBoost: 1.053147315979004\n"
     ]
    }
   ],
   "source": [
    "preprocessor = ColumnTransformer(\n",
    "    transformers=[\n",
    "        ('num', 'passthrough', numerical_features),\n",
    "        ('cat', OrdinalEncoder(handle_unknown='use_encoded_value', unknown_value=-1), categorical_features)\n",
    "    ])\n",
    "\n",
    "parameters_cbr = {\n",
    "    'regressor__learning_rate': [0.01, 0.05, 0.1, 0.2, 0.3, 0.4],\n",
    "    'regressor__depth': [4, 6, 8, 10],\n",
    "    'regressor__iterations': [100, 200, 300, 500, 700],\n",
    "    'regressor__l2_leaf_reg': [1, 3, 5, 7, 9],\n",
    "    'regressor__border_count': [32, 64, 128]\n",
    "}\n",
    "\n",
    "pipeline_cbr = Pipeline(steps=[\n",
    "    ('preprocessor', preprocessor),\n",
    "    ('regressor', CatBoostRegressor(verbose=False, random_state=42))\n",
    "])\n",
    "\n",
    "rscv_cbr = RandomizedSearchCV(pipeline_cbr, parameters_cbr, scoring='neg_mean_squared_error', cv=3, n_iter=10, random_state=42)\n",
    "rscv_cbr.fit(X_train, y_train)\n",
    "\n",
    "# Время обучения лучшей модели CatBoost\n",
    "start = time.time()\n",
    "rscv_cbr.best_estimator_.fit(X_train, y_train)\n",
    "end = time.time()\n",
    "t_cbr_train = end - start\n",
    "\n",
    "# Время предсказания на обучающей выборке CatBoost\n",
    "start = time.time()\n",
    "y_pred_train_cbr = rscv_cbr.best_estimator_.predict(X_train)\n",
    "end = time.time()\n",
    "t_cbr_predict_train = end - start\n",
    "\n",
    "mean_cv_rmse_cbr = (-rscv_cbr.best_score_) ** 0.5\n",
    "print(f'Среднее значение RMSE на кросс-валидации для CatBoost: {mean_cv_rmse_cbr}')\n",
    "print(f'Время обучения для CatBoost: {t_cbr_train}')\n",
    "print(f'Время предсказания на обучающей выборке для CatBoost: {t_cbr_predict_train}')"
   ]
  },
  {
   "cell_type": "markdown",
   "metadata": {},
   "source": [
    "<div style=\"border:solid Chocolate 2px; padding: 40px\">\n",
    "    \n",
    "### Промежуточный вывод:\n",
    "    \n",
    "- Лучшие параметры для CatBoost: {'regressor__learning_rate': 0.3, 'regressor__l2_leaf_reg': 5, 'regressor__iterations': 300, 'regressor__depth': 10, 'regressor__border_count': 64}\n",
    "- Среднее значение RMSE на кросс-валидации для CatBoost: 1307.087269656223\n",
    "- Время кросс-валидации для CatBoost: 239.62311267852783"
   ]
  },
  {
   "cell_type": "markdown",
   "metadata": {},
   "source": [
    "<div style=\"border:solid Chocolate 2px; padding: 40px\">\n",
    "    \n",
    "### 2.3 LightGBM"
   ]
  },
  {
   "cell_type": "code",
   "execution_count": 31,
   "metadata": {},
   "outputs": [
    {
     "name": "stdout",
     "output_type": "stream",
     "text": [
      "[LightGBM] [Info] Auto-choosing row-wise multi-threading, the overhead of testing was 0.005087 seconds.\n",
      "You can set `force_row_wise=true` to remove the overhead.\n",
      "And if memory is not enough, you can set `force_col_wise=true`.\n",
      "[LightGBM] [Info] Total Bins 794\n",
      "[LightGBM] [Info] Number of data points in the train set: 146656, number of used features: 9\n",
      "[LightGBM] [Info] Start training from score 4167.578163\n",
      "[LightGBM] [Info] Auto-choosing row-wise multi-threading, the overhead of testing was 0.003748 seconds.\n",
      "You can set `force_row_wise=true` to remove the overhead.\n",
      "And if memory is not enough, you can set `force_col_wise=true`.\n",
      "[LightGBM] [Info] Total Bins 792\n",
      "[LightGBM] [Info] Number of data points in the train set: 146657, number of used features: 9\n",
      "[LightGBM] [Info] Start training from score 4171.155949\n",
      "[LightGBM] [Info] Auto-choosing row-wise multi-threading, the overhead of testing was 0.004063 seconds.\n",
      "You can set `force_row_wise=true` to remove the overhead.\n",
      "And if memory is not enough, you can set `force_col_wise=true`.\n",
      "[LightGBM] [Info] Total Bins 791\n",
      "[LightGBM] [Info] Number of data points in the train set: 146657, number of used features: 9\n",
      "[LightGBM] [Info] Start training from score 4171.013883\n",
      "[LightGBM] [Info] Auto-choosing row-wise multi-threading, the overhead of testing was 0.004122 seconds.\n",
      "You can set `force_row_wise=true` to remove the overhead.\n",
      "And if memory is not enough, you can set `force_col_wise=true`.\n",
      "[LightGBM] [Info] Total Bins 794\n",
      "[LightGBM] [Info] Number of data points in the train set: 146656, number of used features: 9\n",
      "[LightGBM] [Info] Start training from score 4167.578163\n",
      "[LightGBM] [Info] Auto-choosing row-wise multi-threading, the overhead of testing was 0.007354 seconds.\n",
      "You can set `force_row_wise=true` to remove the overhead.\n",
      "And if memory is not enough, you can set `force_col_wise=true`.\n",
      "[LightGBM] [Info] Total Bins 792\n",
      "[LightGBM] [Info] Number of data points in the train set: 146657, number of used features: 9\n",
      "[LightGBM] [Info] Start training from score 4171.155949\n",
      "[LightGBM] [Info] Auto-choosing row-wise multi-threading, the overhead of testing was 0.003956 seconds.\n",
      "You can set `force_row_wise=true` to remove the overhead.\n",
      "And if memory is not enough, you can set `force_col_wise=true`.\n",
      "[LightGBM] [Info] Total Bins 791\n",
      "[LightGBM] [Info] Number of data points in the train set: 146657, number of used features: 9\n",
      "[LightGBM] [Info] Start training from score 4171.013883\n",
      "[LightGBM] [Info] Auto-choosing row-wise multi-threading, the overhead of testing was 0.003946 seconds.\n",
      "You can set `force_row_wise=true` to remove the overhead.\n",
      "And if memory is not enough, you can set `force_col_wise=true`.\n",
      "[LightGBM] [Info] Total Bins 794\n",
      "[LightGBM] [Info] Number of data points in the train set: 146656, number of used features: 9\n",
      "[LightGBM] [Info] Start training from score 4167.578163\n",
      "[LightGBM] [Info] Auto-choosing row-wise multi-threading, the overhead of testing was 0.004212 seconds.\n",
      "You can set `force_row_wise=true` to remove the overhead.\n",
      "And if memory is not enough, you can set `force_col_wise=true`.\n",
      "[LightGBM] [Info] Total Bins 792\n",
      "[LightGBM] [Info] Number of data points in the train set: 146657, number of used features: 9\n",
      "[LightGBM] [Info] Start training from score 4171.155949\n",
      "[LightGBM] [Info] Auto-choosing row-wise multi-threading, the overhead of testing was 0.003766 seconds.\n",
      "You can set `force_row_wise=true` to remove the overhead.\n",
      "And if memory is not enough, you can set `force_col_wise=true`.\n",
      "[LightGBM] [Info] Total Bins 791\n",
      "[LightGBM] [Info] Number of data points in the train set: 146657, number of used features: 9\n",
      "[LightGBM] [Info] Start training from score 4171.013883\n",
      "[LightGBM] [Info] Auto-choosing row-wise multi-threading, the overhead of testing was 0.003944 seconds.\n",
      "You can set `force_row_wise=true` to remove the overhead.\n",
      "And if memory is not enough, you can set `force_col_wise=true`.\n",
      "[LightGBM] [Info] Total Bins 794\n",
      "[LightGBM] [Info] Number of data points in the train set: 146656, number of used features: 9\n",
      "[LightGBM] [Info] Start training from score 4167.578163\n",
      "[LightGBM] [Info] Auto-choosing row-wise multi-threading, the overhead of testing was 0.004260 seconds.\n",
      "You can set `force_row_wise=true` to remove the overhead.\n",
      "And if memory is not enough, you can set `force_col_wise=true`.\n",
      "[LightGBM] [Info] Total Bins 792\n",
      "[LightGBM] [Info] Number of data points in the train set: 146657, number of used features: 9\n",
      "[LightGBM] [Info] Start training from score 4171.155949\n",
      "[LightGBM] [Info] Auto-choosing row-wise multi-threading, the overhead of testing was 0.003221 seconds.\n",
      "You can set `force_row_wise=true` to remove the overhead.\n",
      "And if memory is not enough, you can set `force_col_wise=true`.\n",
      "[LightGBM] [Info] Total Bins 791\n",
      "[LightGBM] [Info] Number of data points in the train set: 146657, number of used features: 9\n",
      "[LightGBM] [Info] Start training from score 4171.013883\n",
      "[LightGBM] [Info] Auto-choosing row-wise multi-threading, the overhead of testing was 0.003359 seconds.\n",
      "You can set `force_row_wise=true` to remove the overhead.\n",
      "And if memory is not enough, you can set `force_col_wise=true`.\n",
      "[LightGBM] [Info] Total Bins 794\n",
      "[LightGBM] [Info] Number of data points in the train set: 146656, number of used features: 9\n",
      "[LightGBM] [Info] Start training from score 4167.578163\n",
      "[LightGBM] [Info] Auto-choosing row-wise multi-threading, the overhead of testing was 0.003560 seconds.\n",
      "You can set `force_row_wise=true` to remove the overhead.\n",
      "And if memory is not enough, you can set `force_col_wise=true`.\n",
      "[LightGBM] [Info] Total Bins 792\n",
      "[LightGBM] [Info] Number of data points in the train set: 146657, number of used features: 9\n",
      "[LightGBM] [Info] Start training from score 4171.155949\n",
      "[LightGBM] [Info] Auto-choosing row-wise multi-threading, the overhead of testing was 0.003497 seconds.\n",
      "You can set `force_row_wise=true` to remove the overhead.\n",
      "And if memory is not enough, you can set `force_col_wise=true`.\n",
      "[LightGBM] [Info] Total Bins 791\n",
      "[LightGBM] [Info] Number of data points in the train set: 146657, number of used features: 9\n",
      "[LightGBM] [Info] Start training from score 4171.013883\n",
      "[LightGBM] [Info] Auto-choosing row-wise multi-threading, the overhead of testing was 0.005468 seconds.\n",
      "You can set `force_row_wise=true` to remove the overhead.\n",
      "And if memory is not enough, you can set `force_col_wise=true`.\n",
      "[LightGBM] [Info] Total Bins 794\n",
      "[LightGBM] [Info] Number of data points in the train set: 146656, number of used features: 9\n",
      "[LightGBM] [Info] Start training from score 4167.578163\n",
      "[LightGBM] [Info] Auto-choosing row-wise multi-threading, the overhead of testing was 0.043862 seconds.\n",
      "You can set `force_row_wise=true` to remove the overhead.\n",
      "And if memory is not enough, you can set `force_col_wise=true`.\n",
      "[LightGBM] [Info] Total Bins 792\n",
      "[LightGBM] [Info] Number of data points in the train set: 146657, number of used features: 9\n",
      "[LightGBM] [Info] Start training from score 4171.155949\n",
      "[LightGBM] [Info] Auto-choosing row-wise multi-threading, the overhead of testing was 0.004042 seconds.\n",
      "You can set `force_row_wise=true` to remove the overhead.\n",
      "And if memory is not enough, you can set `force_col_wise=true`.\n",
      "[LightGBM] [Info] Total Bins 791\n",
      "[LightGBM] [Info] Number of data points in the train set: 146657, number of used features: 9\n",
      "[LightGBM] [Info] Start training from score 4171.013883\n",
      "[LightGBM] [Info] Auto-choosing row-wise multi-threading, the overhead of testing was 0.004977 seconds.\n",
      "You can set `force_row_wise=true` to remove the overhead.\n",
      "And if memory is not enough, you can set `force_col_wise=true`.\n",
      "[LightGBM] [Info] Total Bins 794\n",
      "[LightGBM] [Info] Number of data points in the train set: 146656, number of used features: 9\n",
      "[LightGBM] [Info] Start training from score 4167.578163\n",
      "[LightGBM] [Info] Auto-choosing row-wise multi-threading, the overhead of testing was 0.005926 seconds.\n",
      "You can set `force_row_wise=true` to remove the overhead.\n",
      "And if memory is not enough, you can set `force_col_wise=true`.\n",
      "[LightGBM] [Info] Total Bins 792\n",
      "[LightGBM] [Info] Number of data points in the train set: 146657, number of used features: 9\n",
      "[LightGBM] [Info] Start training from score 4171.155949\n",
      "[LightGBM] [Info] Auto-choosing row-wise multi-threading, the overhead of testing was 0.003442 seconds.\n",
      "You can set `force_row_wise=true` to remove the overhead.\n",
      "And if memory is not enough, you can set `force_col_wise=true`.\n",
      "[LightGBM] [Info] Total Bins 791\n",
      "[LightGBM] [Info] Number of data points in the train set: 146657, number of used features: 9\n",
      "[LightGBM] [Info] Start training from score 4171.013883\n"
     ]
    },
    {
     "name": "stdout",
     "output_type": "stream",
     "text": [
      "[LightGBM] [Info] Auto-choosing row-wise multi-threading, the overhead of testing was 0.005069 seconds.\n",
      "You can set `force_row_wise=true` to remove the overhead.\n",
      "And if memory is not enough, you can set `force_col_wise=true`.\n",
      "[LightGBM] [Info] Total Bins 794\n",
      "[LightGBM] [Info] Number of data points in the train set: 146656, number of used features: 9\n",
      "[LightGBM] [Info] Start training from score 4167.578163\n",
      "[LightGBM] [Info] Auto-choosing row-wise multi-threading, the overhead of testing was 0.003129 seconds.\n",
      "You can set `force_row_wise=true` to remove the overhead.\n",
      "And if memory is not enough, you can set `force_col_wise=true`.\n",
      "[LightGBM] [Info] Total Bins 792\n",
      "[LightGBM] [Info] Number of data points in the train set: 146657, number of used features: 9\n",
      "[LightGBM] [Info] Start training from score 4171.155949\n",
      "[LightGBM] [Info] Auto-choosing row-wise multi-threading, the overhead of testing was 0.008270 seconds.\n",
      "You can set `force_row_wise=true` to remove the overhead.\n",
      "And if memory is not enough, you can set `force_col_wise=true`.\n",
      "[LightGBM] [Info] Total Bins 791\n",
      "[LightGBM] [Info] Number of data points in the train set: 146657, number of used features: 9\n",
      "[LightGBM] [Info] Start training from score 4171.013883\n",
      "[LightGBM] [Info] Auto-choosing row-wise multi-threading, the overhead of testing was 0.007189 seconds.\n",
      "You can set `force_row_wise=true` to remove the overhead.\n",
      "And if memory is not enough, you can set `force_col_wise=true`.\n",
      "[LightGBM] [Info] Total Bins 801\n",
      "[LightGBM] [Info] Number of data points in the train set: 219985, number of used features: 9\n",
      "[LightGBM] [Info] Start training from score 4169.916003\n",
      "[LightGBM] [Info] Auto-choosing row-wise multi-threading, the overhead of testing was 0.005811 seconds.\n",
      "You can set `force_row_wise=true` to remove the overhead.\n",
      "And if memory is not enough, you can set `force_col_wise=true`.\n",
      "[LightGBM] [Info] Total Bins 801\n",
      "[LightGBM] [Info] Number of data points in the train set: 219985, number of used features: 9\n",
      "[LightGBM] [Info] Start training from score 4169.916003\n",
      "Среднее значение RMSE на кросс-валидации для LightGBM: 1296.3255189166543\n",
      "Время обучения для LightGBM: 1.7370362281799316\n",
      "Время предсказания на обучающей выборке для LightGBM: 0.6354448795318604\n"
     ]
    }
   ],
   "source": [
    "parameters_lgbm = {\n",
    "    'regressor__num_leaves': [100, 150], \n",
    "    'regressor__learning_rate': [0.2, 0.4, 0.5, 0.8]\n",
    "}\n",
    "\n",
    "pipeline_lgbm = Pipeline(steps=[\n",
    "    ('preprocessor', preprocessor),\n",
    "    ('regressor', LGBMRegressor())\n",
    "])\n",
    "\n",
    "rscv_lgbm = RandomizedSearchCV(pipeline_lgbm, parameters_lgbm, scoring='neg_mean_squared_error', cv=3, n_iter=8, random_state=42)\n",
    "rscv_lgbm.fit(X_train, y_train)\n",
    "\n",
    "# Время обучения лучшей модели LightGBM\n",
    "start = time.time()\n",
    "rscv_lgbm.best_estimator_.fit(X_train, y_train)\n",
    "end = time.time()\n",
    "t_lgbm_train = end - start\n",
    "\n",
    "# Время предсказания на обучающей выборке LightGBM\n",
    "start = time.time()\n",
    "y_pred_train_lgbm = rscv_lgbm.best_estimator_.predict(X_train)\n",
    "end = time.time()\n",
    "t_lgbm_predict_train = end - start\n",
    "\n",
    "mean_cv_rmse_lgbm = (-rscv_lgbm.best_score_) ** 0.5\n",
    "print(f'Среднее значение RMSE на кросс-валидации для LightGBM: {mean_cv_rmse_lgbm}')\n",
    "print(f'Время обучения для LightGBM: {t_lgbm_train}')\n",
    "print(f'Время предсказания на обучающей выборке для LightGBM: {t_lgbm_predict_train}')"
   ]
  },
  {
   "cell_type": "markdown",
   "metadata": {},
   "source": [
    "<div style=\"border:solid Chocolate 2px; padding: 40px\">\n",
    "    \n",
    "### Промежуточный вывод:\n",
    "    \n",
    "- Лучшие параметры для LightGBM: {'regressor__num_leaves': 150, 'regressor__learning_rate': 0.2}\n",
    "- Среднее значение RMSE на кросс-валидации для LightGBM: 1296.3255189166543\n",
    "- Время кросс-валидации для LightGBM: 39.10284423828125"
   ]
  },
  {
   "cell_type": "markdown",
   "metadata": {},
   "source": [
    "## 3. Анализ моделей"
   ]
  },
  {
   "cell_type": "code",
   "execution_count": 32,
   "metadata": {},
   "outputs": [
    {
     "name": "stdout",
     "output_type": "stream",
     "text": [
      "\n",
      "Модель: Linear Regression\n",
      "RMSE на кросс-валидации: 2992.0835350486986\n",
      "Время обучения: 0.5306932926177979\n",
      "Время предсказания на обучающей выборке: 0.5178697109222412\n",
      "\n",
      "Модель: CatBoost\n",
      "RMSE на кросс-валидации: 1307.087269656223\n",
      "Время обучения: 9.710723400115967\n",
      "Время предсказания на обучающей выборке: 1.053147315979004\n",
      "\n",
      "Модель: LightGBM\n",
      "RMSE на кросс-валидации: 1296.3255189166543\n",
      "Время обучения: 1.7370362281799316\n",
      "Время предсказания на обучающей выборке: 0.6354448795318604\n",
      "\n",
      "Лучшая модель: LightGBM\n",
      "[LightGBM] [Info] Auto-choosing row-wise multi-threading, the overhead of testing was 0.009401 seconds.\n",
      "You can set `force_row_wise=true` to remove the overhead.\n",
      "And if memory is not enough, you can set `force_col_wise=true`.\n",
      "[LightGBM] [Info] Total Bins 801\n",
      "[LightGBM] [Info] Number of data points in the train set: 219985, number of used features: 9\n",
      "[LightGBM] [Info] Start training from score 4169.916003\n",
      "RMSE на тестовой выборке для LightGBM: 1284.545224786742\n",
      "R2 на тестовой выборке для LightGBM: 0.8717547666266839\n",
      "Время обучения для LightGBM: 3.7717390060424805\n",
      "Время предсказания на обучающей выборке для LightGBM: 0.5805625915527344\n"
     ]
    }
   ],
   "source": [
    "models = {\n",
    "    'Linear Regression': {\n",
    "        'rmse': mean_cv_rmse_lr,\n",
    "        'train_time': t_lr_train,\n",
    "        'predict_time': t_lr_predict_train\n",
    "    },\n",
    "    'CatBoost': {\n",
    "        'rmse': mean_cv_rmse_cbr,\n",
    "        'train_time': t_cbr_train,\n",
    "        'predict_time': t_cbr_predict_train\n",
    "    },\n",
    "    'LightGBM': {\n",
    "        'rmse': mean_cv_rmse_lgbm,\n",
    "        'train_time': t_lgbm_train,\n",
    "        'predict_time': t_lgbm_predict_train\n",
    "    }\n",
    "}\n",
    "\n",
    "for model_name, metrics in models.items():\n",
    "    print(f\"\\nМодель: {model_name}\")\n",
    "    print(f\"RMSE на кросс-валидации: {metrics['rmse']}\")\n",
    "    print(f\"Время обучения: {metrics['train_time']}\")\n",
    "    print(f\"Время предсказания на обучающей выборке: {metrics['predict_time']}\")\n",
    "\n",
    "# Определение лучшей модели\n",
    "best_model_name = min(models, key=lambda x: models[x]['rmse'])\n",
    "print(f\"\\nЛучшая модель: {best_model_name}\")\n",
    "\n",
    "# Обучение и предсказания с лучшей моделью\n",
    "if best_model_name == 'Linear Regression':\n",
    "    best_model = pipeline_lr\n",
    "elif best_model_name == 'CatBoost':\n",
    "    best_model = rscv_cbr.best_estimator_\n",
    "else:\n",
    "    best_model = rscv_lgbm.best_estimator_\n",
    "\n",
    "# Время обучения лучшей модели\n",
    "start = time.time()\n",
    "best_model.fit(X_train, y_train)\n",
    "end = time.time()\n",
    "t_train = end - start\n",
    "\n",
    "# Время предсказания на обучающей выборке для лучшей модели\n",
    "start = time.time()\n",
    "y_pred_train = best_model.predict(X_train)\n",
    "end = time.time()\n",
    "t_predict_train = end - start\n",
    "\n",
    "# Предсказания на тестовой выборке\n",
    "y_pred_test = best_model.predict(X_test)\n",
    "\n",
    "# Метрики на тестовой выборке\n",
    "rmse_test = mean_squared_error(y_test, y_pred_test, squared=False)\n",
    "r2_test = r2_score(y_test, y_pred_test)\n",
    "print(f'RMSE на тестовой выборке для {best_model_name}: {rmse_test}')\n",
    "print(f'R2 на тестовой выборке для {best_model_name}: {r2_test}')\n",
    "print(f'Время обучения для {best_model_name}: {t_train}')\n",
    "print(f'Время предсказания на обучающей выборке для {best_model_name}: {t_predict_train}')"
   ]
  },
  {
   "cell_type": "markdown",
   "metadata": {},
   "source": [
    "<div style=\"border:solid Chocolate 2px; padding: 40px\">\n",
    "    \n",
    "### Вывод:\n",
    "\n",
    "В ходе эксперимента были обучены три модели для предсказания цены автомобиля: Linear Regression, CatBoost, и LightGBM. Оценивались такие метрики, как RMSE на кросс-валидации, время обучения модели и время предсказания на обучающей выборке.\n",
    "\n",
    "Результаты для каждой модели:\n",
    "\n",
    "- Linear Regression\n",
    "\n",
    "RMSE на кросс-валидации: 2992.08\n",
    "    \n",
    "Время обучения: 0.72 секунд\n",
    "    \n",
    "Время предсказания на обучающей выборке: 0.59 секунд\n",
    "    \n",
    "- CatBoost\n",
    "\n",
    "RMSE на кросс-валидации: 1307.09\n",
    "    \n",
    "Время обучения: 10.70 секунд\n",
    "    \n",
    "Время предсказания на обучающей выборке: 1.06 секунд\n",
    "    \n",
    "- LightGBM\n",
    "\n",
    "RMSE на кросс-валидации: 1296.33\n",
    "    \n",
    "Время обучения: 1.87 секунд\n",
    "    \n",
    "Время предсказания на обучающей выборке: 0.58 секунд\n",
    "    \n",
    "    \n",
    "    \n",
    "- На основе сравнения RMSE на кросс-валидации, лучшей моделью была определена LightGBM с RMSE 1296.33. Эта модель также показала приемлемое время обучения и предсказания.\n",
    "\n",
    "- Окончательная оценка на тестовой выборке для LightGBM:\n",
    "\n",
    "RMSE на тестовой выборке: 1284.55\n",
    "    \n",
    "R2 на тестовой выборке: 0.87\n",
    "    \n",
    "Время обучения: 1.97 секунд\n",
    "    \n",
    "Время предсказания на обучающей выборке: 0.55 секунд\n",
    "    \n",
    "### Вывод:\n",
    "    \n",
    "Модель LightGBM продемонстрировала наилучшие результаты среди рассмотренных моделей по метрике RMSE и времени выполнения. Время обучения и предсказания также оказалось достаточно коротким, что делает эту модель наиболее подходящей для задачи предсказания цены автомобиля.\n"
   ]
  },
  {
   "cell_type": "markdown",
   "metadata": {},
   "source": [
    "<div style=\"border:solid Chocolate 2px; padding: 40px\">\n",
    "    \n",
    "# Общий вывод\n",
    "    \n",
    "Преобразование данных:\n",
    "\n",
    "- Привели названия столбцов к нижнему регистру.\n",
    "- Преобразовали столбцы DateCrawled, DateCreated, LastSeen в тип даты.\n",
    "    \n",
    "Обработка пропусков и дубликатов:\n",
    "\n",
    "- Заменили пропущенные значения категориальных переменных на unknown.\n",
    "- Удалили явные и неявные дубликаты.\n",
    "    \n",
    "Обработка ошибок в данных:\n",
    "\n",
    "- Удалили строки с ценой 0.\n",
    "- Удалили строки с годом регистрации до 1970 и после 2024.\n",
    "- Отфильтровали строки с мощностью меньше 20 и больше 600 л.с.\n",
    "- Объединили год и месяц регистрации, день оставили как 1 число.\n",
    "    \n",
    "Удаление ненужных признаков:\n",
    "\n",
    "- Удалили столбцы кол-во картинок и почтовый индекс.\n",
    "    \n",
    "Обработка выбросов:\n",
    "\n",
    "- Удалили строки с ценой ниже 0.05 и выше 0.95 квантилей.\n",
    "- Удалили строки с мощностью больше 1000 л.с.\n",
    "    \n",
    "Преобразование признаков:\n",
    "\n",
    "- Преобразовали столбец repaired в числовой формат (0, 1, 2).\n",
    "- Преобразовали год и месяц регистрации авто в числовой формат.\n",
    "    \n",
    "Корреляционный анализ:\n",
    "\n",
    "- Выявили высокую корреляцию между некоторыми признаками, что может привести к мультиколлинеарности, однако оставили эти признаки неизменными\n",
    "    \n",
    "Моделирование:\n",
    "\n",
    "В ходе эксперимента были обучены три модели для предсказания цены автомобиля: Linear Regression, CatBoost, и LightGBM. Оценивались такие метрики, как RMSE на кросс-валидации, время обучения модели и время предсказания на обучающей выборке.\n",
    "\n",
    "Результаты для каждой модели:\n",
    "\n",
    "- Linear Regression\n",
    "\n",
    "RMSE на кросс-валидации: 2992.08\n",
    "    \n",
    "Время обучения: 0.72 секунд\n",
    "    \n",
    "Время предсказания на обучающей выборке: 0.59 секунд\n",
    "    \n",
    "- CatBoost\n",
    "\n",
    "RMSE на кросс-валидации: 1307.09\n",
    "    \n",
    "Время обучения: 10.70 секунд\n",
    "    \n",
    "Время предсказания на обучающей выборке: 1.06 секунд\n",
    "    \n",
    "- LightGBM\n",
    "\n",
    "RMSE на кросс-валидации: 1296.33\n",
    "    \n",
    "Время обучения: 1.87 секунд\n",
    "    \n",
    "Время предсказания на обучающей выборке: 0.58 секунд\n",
    "    \n",
    "    \n",
    "    \n",
    "- На основе сравнения RMSE на кросс-валидации, лучшей моделью была определена LightGBM с RMSE 1296.33. Эта модель также показала приемлемое время обучения и предсказания.\n",
    "\n",
    "- Окончательная оценка на тестовой выборке для LightGBM:\n",
    "\n",
    "RMSE на тестовой выборке: 1284.55\n",
    "    \n",
    "R2 на тестовой выборке: 0.87\n",
    "    \n",
    "Время обучения: 1.97 секунд\n",
    "    \n",
    "Время предсказания на обучающей выборке: 0.55 секунд\n",
    "    \n",
    "### Вывод:\n",
    "    \n",
    "Модель LightGBM продемонстрировала наилучшие результаты среди рассмотренных моделей по метрике RMSE и времени выполнения. Время обучения и предсказания также оказалось достаточно коротким, что делает эту модель наиболее подходящей для задачи предсказания цены автомобиля."
   ]
  },
  {
   "cell_type": "markdown",
   "metadata": {},
   "source": [
    "<div style=\"border:solid Chocolate 2px; padding: 40px\">\n",
    "    \n",
    "### Рекомендации для улучшения данных\n",
    "\n",
    "\n",
    "В ходе предобработки данных, представленных для анализа и моделирования, пришлось удалить около 20% строк из-за ошибок и выбросов. Для улучшения качества данных и повышения точности предсказаний, рекомендуем предпринять следующие меры:\n",
    "\n",
    "- Обеспечение точности и полноты данных:\n",
    "\n",
    "Избегать отсутствующих значений в критических столбцах, особенно в ценах, годе регистрации, мощности и других важных признаках.\n",
    "Убедиться, что данные вводятся корректно, чтобы исключить нулевые значения для таких параметров, как цена и мощность.\n",
    "Валидация при вводе данных:\n",
    "\n",
    "Внедрить механизмы проверки и валидации данных на этапе ввода, чтобы предотвратить ошибки в годе регистрации (например, 1000 или 9999) и других признаках.\n",
    "Автоматически проверять и корректировать данные на предмет выбросов и логических несоответствий.\n",
    "    \n",
    "- Регулярное обновление и поддержка данных:\n",
    "\n",
    "Регулярно обновлять и проверять данные, чтобы они оставались актуальными и точными.\n",
    "Внедрить процессы мониторинга и отчётности по качеству данных, чтобы своевременно выявлять и устранять проблемы.\n",
    "    \n",
    "- Обогащение данных:\n",
    "\n",
    "Рассмотреть возможность обогащения данных дополнительными источниками информации, что может помочь в более точной оценке и прогнозировании.\n",
    "Внедрить механизмы сбора и хранения дополнительной информации, которая может быть полезной для анализа и моделей.\n",
    "    \n",
    "- Проверка и очистка исторических данных:\n",
    "\n",
    "Провести ревизию исторических данных для выявления и исправления ошибок, а также для улучшения качества всех имеющихся данных.\n",
    "Удалить или исправить данные, которые могут ввести модель в заблуждение из-за наличия некорректных значений.\n",
    "    \n",
    "#### Заключение\n",
    "    \n",
    "Внедрение вышеуказанных рекомендаций поможет улучшить качество данных, что в свою очередь приведет к повышению точности моделей и улучшению бизнес-результатов. Предоставление более качественных и точных данных позволит избежать значительных потерь информации и повысить эффективность аналитических решений."
   ]
  }
 ],
 "metadata": {
  "ExecuteTimeLog": [
   {
    "duration": 742,
    "start_time": "2024-07-18T09:06:51.235Z"
   },
   {
    "duration": 1504,
    "start_time": "2024-07-18T09:07:43.536Z"
   },
   {
    "duration": 2801,
    "start_time": "2024-07-18T09:11:15.981Z"
   },
   {
    "duration": 123,
    "start_time": "2024-07-18T09:12:00.945Z"
   },
   {
    "duration": 3,
    "start_time": "2024-07-18T09:41:07.879Z"
   },
   {
    "duration": 20,
    "start_time": "2024-07-18T09:41:17.111Z"
   },
   {
    "duration": 19,
    "start_time": "2024-07-18T09:43:58.441Z"
   },
   {
    "duration": 3,
    "start_time": "2024-07-18T09:44:16.243Z"
   },
   {
    "duration": 106,
    "start_time": "2024-07-18T09:45:04.080Z"
   },
   {
    "duration": 340,
    "start_time": "2024-07-18T09:46:12.249Z"
   },
   {
    "duration": 44,
    "start_time": "2024-07-18T09:46:38.828Z"
   },
   {
    "duration": 180,
    "start_time": "2024-07-18T09:49:10.267Z"
   },
   {
    "duration": 103,
    "start_time": "2024-07-18T09:49:17.571Z"
   },
   {
    "duration": 1381,
    "start_time": "2024-07-18T09:49:25.803Z"
   },
   {
    "duration": 742,
    "start_time": "2024-07-18T09:49:27.185Z"
   },
   {
    "duration": 123,
    "start_time": "2024-07-18T09:49:27.929Z"
   },
   {
    "duration": 3,
    "start_time": "2024-07-18T09:49:28.053Z"
   },
   {
    "duration": 18,
    "start_time": "2024-07-18T09:49:28.058Z"
   },
   {
    "duration": 381,
    "start_time": "2024-07-18T09:49:28.077Z"
   },
   {
    "duration": 76,
    "start_time": "2024-07-18T09:50:35.345Z"
   },
   {
    "duration": 78,
    "start_time": "2024-07-18T09:52:22.443Z"
   },
   {
    "duration": 123,
    "start_time": "2024-07-18T09:56:42.269Z"
   },
   {
    "duration": 1127,
    "start_time": "2024-07-18T10:03:32.623Z"
   },
   {
    "duration": 204,
    "start_time": "2024-07-18T10:03:50.281Z"
   },
   {
    "duration": 241,
    "start_time": "2024-07-18T10:05:30.497Z"
   },
   {
    "duration": 439,
    "start_time": "2024-07-18T10:06:44.160Z"
   },
   {
    "duration": 74,
    "start_time": "2024-07-18T10:06:58.130Z"
   },
   {
    "duration": 81,
    "start_time": "2024-07-18T10:10:40.609Z"
   },
   {
    "duration": 117,
    "start_time": "2024-07-18T10:31:30.968Z"
   },
   {
    "duration": 83,
    "start_time": "2024-07-18T10:32:20.358Z"
   },
   {
    "duration": 89,
    "start_time": "2024-07-18T10:32:43.510Z"
   },
   {
    "duration": 1413,
    "start_time": "2024-07-18T10:32:53.879Z"
   },
   {
    "duration": 730,
    "start_time": "2024-07-18T10:32:55.294Z"
   },
   {
    "duration": 130,
    "start_time": "2024-07-18T10:32:56.026Z"
   },
   {
    "duration": 3,
    "start_time": "2024-07-18T10:32:56.158Z"
   },
   {
    "duration": 97,
    "start_time": "2024-07-18T10:32:56.163Z"
   },
   {
    "duration": 329,
    "start_time": "2024-07-18T10:32:56.261Z"
   },
   {
    "duration": 127,
    "start_time": "2024-07-18T10:32:56.591Z"
   },
   {
    "duration": 73,
    "start_time": "2024-07-18T10:32:56.719Z"
   },
   {
    "duration": 222,
    "start_time": "2024-07-18T10:32:56.793Z"
   },
   {
    "duration": 280,
    "start_time": "2024-07-18T10:32:57.016Z"
   },
   {
    "duration": 100,
    "start_time": "2024-07-18T10:32:57.298Z"
   },
   {
    "duration": 87,
    "start_time": "2024-07-18T10:32:57.400Z"
   },
   {
    "duration": 98,
    "start_time": "2024-07-18T10:32:57.489Z"
   },
   {
    "duration": 29,
    "start_time": "2024-07-18T10:34:26.648Z"
   },
   {
    "duration": 2972,
    "start_time": "2024-07-18T10:36:26.372Z"
   },
   {
    "duration": 1316,
    "start_time": "2024-07-18T10:37:40.550Z"
   },
   {
    "duration": 745,
    "start_time": "2024-07-18T10:37:41.868Z"
   },
   {
    "duration": 128,
    "start_time": "2024-07-18T10:37:42.614Z"
   },
   {
    "duration": 3,
    "start_time": "2024-07-18T10:37:42.743Z"
   },
   {
    "duration": 25,
    "start_time": "2024-07-18T10:37:42.748Z"
   },
   {
    "duration": 367,
    "start_time": "2024-07-18T10:37:42.774Z"
   },
   {
    "duration": 145,
    "start_time": "2024-07-18T10:37:43.143Z"
   },
   {
    "duration": 81,
    "start_time": "2024-07-18T10:37:43.289Z"
   },
   {
    "duration": 218,
    "start_time": "2024-07-18T10:37:43.371Z"
   },
   {
    "duration": 263,
    "start_time": "2024-07-18T10:37:43.591Z"
   },
   {
    "duration": 77,
    "start_time": "2024-07-18T10:37:43.856Z"
   },
   {
    "duration": 91,
    "start_time": "2024-07-18T10:37:43.935Z"
   },
   {
    "duration": 127,
    "start_time": "2024-07-18T10:37:44.027Z"
   },
   {
    "duration": 546,
    "start_time": "2024-07-18T10:37:44.156Z"
   },
   {
    "duration": 21,
    "start_time": "2024-07-18T10:37:59.714Z"
   },
   {
    "duration": 21,
    "start_time": "2024-07-18T10:38:52.211Z"
   },
   {
    "duration": 49,
    "start_time": "2024-07-18T10:39:06.165Z"
   },
   {
    "duration": 1339,
    "start_time": "2024-07-18T10:57:41.884Z"
   },
   {
    "duration": 726,
    "start_time": "2024-07-18T10:57:43.224Z"
   },
   {
    "duration": 129,
    "start_time": "2024-07-18T10:57:43.952Z"
   },
   {
    "duration": 3,
    "start_time": "2024-07-18T10:57:44.083Z"
   },
   {
    "duration": 13,
    "start_time": "2024-07-18T10:57:44.087Z"
   },
   {
    "duration": 350,
    "start_time": "2024-07-18T10:57:44.101Z"
   },
   {
    "duration": 119,
    "start_time": "2024-07-18T10:57:44.453Z"
   },
   {
    "duration": 77,
    "start_time": "2024-07-18T10:57:44.574Z"
   },
   {
    "duration": 215,
    "start_time": "2024-07-18T10:57:44.653Z"
   },
   {
    "duration": 291,
    "start_time": "2024-07-18T10:57:44.870Z"
   },
   {
    "duration": 84,
    "start_time": "2024-07-18T10:57:45.162Z"
   },
   {
    "duration": 85,
    "start_time": "2024-07-18T10:57:45.247Z"
   },
   {
    "duration": 18,
    "start_time": "2024-07-18T10:57:45.333Z"
   },
   {
    "duration": 103,
    "start_time": "2024-07-18T10:57:45.352Z"
   },
   {
    "duration": 4,
    "start_time": "2024-07-18T10:57:45.456Z"
   },
   {
    "duration": 0,
    "start_time": "2024-07-18T10:57:45.461Z"
   },
   {
    "duration": 0,
    "start_time": "2024-07-18T10:57:45.462Z"
   },
   {
    "duration": 0,
    "start_time": "2024-07-18T10:57:45.463Z"
   },
   {
    "duration": 5,
    "start_time": "2024-07-18T11:01:35.401Z"
   },
   {
    "duration": 709,
    "start_time": "2024-07-18T11:01:35.407Z"
   },
   {
    "duration": 120,
    "start_time": "2024-07-18T11:01:36.118Z"
   },
   {
    "duration": 2,
    "start_time": "2024-07-18T11:01:36.240Z"
   },
   {
    "duration": 6,
    "start_time": "2024-07-18T11:01:36.244Z"
   },
   {
    "duration": 293,
    "start_time": "2024-07-18T11:01:36.251Z"
   },
   {
    "duration": 118,
    "start_time": "2024-07-18T11:01:36.546Z"
   },
   {
    "duration": 75,
    "start_time": "2024-07-18T11:01:36.666Z"
   },
   {
    "duration": 224,
    "start_time": "2024-07-18T11:01:36.742Z"
   },
   {
    "duration": 270,
    "start_time": "2024-07-18T11:01:36.967Z"
   },
   {
    "duration": 81,
    "start_time": "2024-07-18T11:01:37.239Z"
   },
   {
    "duration": 80,
    "start_time": "2024-07-18T11:01:37.322Z"
   },
   {
    "duration": 21,
    "start_time": "2024-07-18T11:01:37.403Z"
   },
   {
    "duration": 87,
    "start_time": "2024-07-18T11:01:41.328Z"
   },
   {
    "duration": 4,
    "start_time": "2024-07-18T11:04:06.738Z"
   },
   {
    "duration": 729,
    "start_time": "2024-07-18T11:04:06.744Z"
   },
   {
    "duration": 120,
    "start_time": "2024-07-18T11:04:07.474Z"
   },
   {
    "duration": 2,
    "start_time": "2024-07-18T11:04:07.595Z"
   },
   {
    "duration": 32,
    "start_time": "2024-07-18T11:04:07.599Z"
   },
   {
    "duration": 284,
    "start_time": "2024-07-18T11:04:07.632Z"
   },
   {
    "duration": 120,
    "start_time": "2024-07-18T11:04:07.918Z"
   },
   {
    "duration": 77,
    "start_time": "2024-07-18T11:04:08.040Z"
   },
   {
    "duration": 231,
    "start_time": "2024-07-18T11:04:08.118Z"
   },
   {
    "duration": 240,
    "start_time": "2024-07-18T11:04:08.350Z"
   },
   {
    "duration": 76,
    "start_time": "2024-07-18T11:04:08.592Z"
   },
   {
    "duration": 88,
    "start_time": "2024-07-18T11:04:08.670Z"
   },
   {
    "duration": 16,
    "start_time": "2024-07-18T11:04:08.759Z"
   },
   {
    "duration": 85,
    "start_time": "2024-07-18T11:04:48.225Z"
   },
   {
    "duration": 4,
    "start_time": "2024-07-18T11:05:05.277Z"
   },
   {
    "duration": 715,
    "start_time": "2024-07-18T11:05:05.283Z"
   },
   {
    "duration": 120,
    "start_time": "2024-07-18T11:05:06.000Z"
   },
   {
    "duration": 3,
    "start_time": "2024-07-18T11:05:06.121Z"
   },
   {
    "duration": 13,
    "start_time": "2024-07-18T11:05:06.126Z"
   },
   {
    "duration": 304,
    "start_time": "2024-07-18T11:05:06.140Z"
   },
   {
    "duration": 127,
    "start_time": "2024-07-18T11:05:06.446Z"
   },
   {
    "duration": 79,
    "start_time": "2024-07-18T11:05:06.574Z"
   },
   {
    "duration": 211,
    "start_time": "2024-07-18T11:05:06.654Z"
   },
   {
    "duration": 263,
    "start_time": "2024-07-18T11:05:06.866Z"
   },
   {
    "duration": 81,
    "start_time": "2024-07-18T11:05:07.131Z"
   },
   {
    "duration": 82,
    "start_time": "2024-07-18T11:05:07.213Z"
   },
   {
    "duration": 29,
    "start_time": "2024-07-18T11:05:07.296Z"
   },
   {
    "duration": 83,
    "start_time": "2024-07-18T11:06:56.705Z"
   },
   {
    "duration": 15,
    "start_time": "2024-07-18T11:07:13.695Z"
   },
   {
    "duration": 88,
    "start_time": "2024-07-18T11:07:14.720Z"
   },
   {
    "duration": 13,
    "start_time": "2024-07-18T11:07:21.872Z"
   },
   {
    "duration": 85,
    "start_time": "2024-07-18T11:07:22.872Z"
   },
   {
    "duration": 13,
    "start_time": "2024-07-18T11:07:31.973Z"
   },
   {
    "duration": 88,
    "start_time": "2024-07-18T11:07:32.592Z"
   },
   {
    "duration": 15,
    "start_time": "2024-07-18T11:07:43.744Z"
   },
   {
    "duration": 84,
    "start_time": "2024-07-18T11:07:44.352Z"
   },
   {
    "duration": 75,
    "start_time": "2024-07-18T11:08:24.256Z"
   },
   {
    "duration": 6,
    "start_time": "2024-07-18T11:08:27.012Z"
   },
   {
    "duration": 4,
    "start_time": "2024-07-18T11:08:28.719Z"
   },
   {
    "duration": 15,
    "start_time": "2024-07-18T11:08:29.632Z"
   },
   {
    "duration": 15,
    "start_time": "2024-07-18T11:08:51.936Z"
   },
   {
    "duration": 5,
    "start_time": "2024-07-18T11:08:56.816Z"
   },
   {
    "duration": 679,
    "start_time": "2024-07-18T11:08:56.822Z"
   },
   {
    "duration": 126,
    "start_time": "2024-07-18T11:08:57.503Z"
   },
   {
    "duration": 3,
    "start_time": "2024-07-18T11:08:57.630Z"
   },
   {
    "duration": 17,
    "start_time": "2024-07-18T11:08:57.635Z"
   },
   {
    "duration": 286,
    "start_time": "2024-07-18T11:08:57.653Z"
   },
   {
    "duration": 124,
    "start_time": "2024-07-18T11:08:57.940Z"
   },
   {
    "duration": 79,
    "start_time": "2024-07-18T11:08:58.066Z"
   },
   {
    "duration": 247,
    "start_time": "2024-07-18T11:08:58.147Z"
   },
   {
    "duration": 245,
    "start_time": "2024-07-18T11:08:58.395Z"
   },
   {
    "duration": 78,
    "start_time": "2024-07-18T11:08:58.642Z"
   },
   {
    "duration": 92,
    "start_time": "2024-07-18T11:08:58.721Z"
   },
   {
    "duration": 15,
    "start_time": "2024-07-18T11:08:58.814Z"
   },
   {
    "duration": 77,
    "start_time": "2024-07-18T11:08:58.831Z"
   },
   {
    "duration": 18,
    "start_time": "2024-07-18T11:09:01.024Z"
   },
   {
    "duration": 4,
    "start_time": "2024-07-18T11:09:26.387Z"
   },
   {
    "duration": 691,
    "start_time": "2024-07-18T11:09:26.393Z"
   },
   {
    "duration": 131,
    "start_time": "2024-07-18T11:09:27.086Z"
   },
   {
    "duration": 3,
    "start_time": "2024-07-18T11:09:27.219Z"
   },
   {
    "duration": 25,
    "start_time": "2024-07-18T11:09:27.223Z"
   },
   {
    "duration": 289,
    "start_time": "2024-07-18T11:09:27.249Z"
   },
   {
    "duration": 120,
    "start_time": "2024-07-18T11:09:27.540Z"
   },
   {
    "duration": 77,
    "start_time": "2024-07-18T11:09:27.661Z"
   },
   {
    "duration": 212,
    "start_time": "2024-07-18T11:09:27.740Z"
   },
   {
    "duration": 238,
    "start_time": "2024-07-18T11:09:27.954Z"
   },
   {
    "duration": 76,
    "start_time": "2024-07-18T11:09:28.194Z"
   },
   {
    "duration": 90,
    "start_time": "2024-07-18T11:09:28.271Z"
   },
   {
    "duration": 16,
    "start_time": "2024-07-18T11:09:28.362Z"
   },
   {
    "duration": 46,
    "start_time": "2024-07-18T11:09:28.380Z"
   },
   {
    "duration": 18,
    "start_time": "2024-07-18T11:09:36.495Z"
   },
   {
    "duration": 5,
    "start_time": "2024-07-18T11:15:32.143Z"
   },
   {
    "duration": 660,
    "start_time": "2024-07-18T11:15:32.150Z"
   },
   {
    "duration": 122,
    "start_time": "2024-07-18T11:15:32.811Z"
   },
   {
    "duration": 2,
    "start_time": "2024-07-18T11:15:32.935Z"
   },
   {
    "duration": 6,
    "start_time": "2024-07-18T11:15:32.939Z"
   },
   {
    "duration": 299,
    "start_time": "2024-07-18T11:15:32.946Z"
   },
   {
    "duration": 122,
    "start_time": "2024-07-18T11:15:33.246Z"
   },
   {
    "duration": 79,
    "start_time": "2024-07-18T11:15:33.369Z"
   },
   {
    "duration": 215,
    "start_time": "2024-07-18T11:15:33.449Z"
   },
   {
    "duration": 246,
    "start_time": "2024-07-18T11:15:33.666Z"
   },
   {
    "duration": 77,
    "start_time": "2024-07-18T11:15:33.913Z"
   },
   {
    "duration": 96,
    "start_time": "2024-07-18T11:15:33.991Z"
   },
   {
    "duration": 23,
    "start_time": "2024-07-18T11:15:34.089Z"
   },
   {
    "duration": 88,
    "start_time": "2024-07-18T11:15:36.648Z"
   },
   {
    "duration": 90,
    "start_time": "2024-07-18T11:19:07.751Z"
   },
   {
    "duration": 68,
    "start_time": "2024-07-18T11:19:08.759Z"
   },
   {
    "duration": 1323,
    "start_time": "2024-07-18T11:19:55.643Z"
   },
   {
    "duration": 785,
    "start_time": "2024-07-18T11:19:56.969Z"
   },
   {
    "duration": 124,
    "start_time": "2024-07-18T11:19:57.755Z"
   },
   {
    "duration": 3,
    "start_time": "2024-07-18T11:19:57.880Z"
   },
   {
    "duration": 10,
    "start_time": "2024-07-18T11:19:57.884Z"
   },
   {
    "duration": 347,
    "start_time": "2024-07-18T11:19:57.896Z"
   },
   {
    "duration": 121,
    "start_time": "2024-07-18T11:19:58.245Z"
   },
   {
    "duration": 78,
    "start_time": "2024-07-18T11:19:58.367Z"
   },
   {
    "duration": 213,
    "start_time": "2024-07-18T11:19:58.447Z"
   },
   {
    "duration": 278,
    "start_time": "2024-07-18T11:19:58.661Z"
   },
   {
    "duration": 81,
    "start_time": "2024-07-18T11:19:58.940Z"
   },
   {
    "duration": 81,
    "start_time": "2024-07-18T11:19:59.022Z"
   },
   {
    "duration": 26,
    "start_time": "2024-07-18T11:19:59.104Z"
   },
   {
    "duration": 106,
    "start_time": "2024-07-18T11:19:59.133Z"
   },
   {
    "duration": 99,
    "start_time": "2024-07-18T11:19:59.241Z"
   },
   {
    "duration": 72,
    "start_time": "2024-07-18T11:19:59.341Z"
   },
   {
    "duration": 2521,
    "start_time": "2024-07-18T11:19:59.414Z"
   },
   {
    "duration": 0,
    "start_time": "2024-07-18T11:20:01.936Z"
   },
   {
    "duration": 5,
    "start_time": "2024-07-18T11:20:58.274Z"
   },
   {
    "duration": 732,
    "start_time": "2024-07-18T11:20:58.280Z"
   },
   {
    "duration": 124,
    "start_time": "2024-07-18T11:20:59.013Z"
   },
   {
    "duration": 3,
    "start_time": "2024-07-18T11:20:59.138Z"
   },
   {
    "duration": 18,
    "start_time": "2024-07-18T11:20:59.143Z"
   },
   {
    "duration": 307,
    "start_time": "2024-07-18T11:20:59.162Z"
   },
   {
    "duration": 123,
    "start_time": "2024-07-18T11:20:59.470Z"
   },
   {
    "duration": 78,
    "start_time": "2024-07-18T11:20:59.594Z"
   },
   {
    "duration": 219,
    "start_time": "2024-07-18T11:20:59.673Z"
   },
   {
    "duration": 241,
    "start_time": "2024-07-18T11:20:59.894Z"
   },
   {
    "duration": 75,
    "start_time": "2024-07-18T11:21:00.137Z"
   },
   {
    "duration": 111,
    "start_time": "2024-07-18T11:21:00.213Z"
   },
   {
    "duration": 16,
    "start_time": "2024-07-18T11:21:00.325Z"
   },
   {
    "duration": 288,
    "start_time": "2024-07-18T11:21:00.343Z"
   },
   {
    "duration": 25,
    "start_time": "2024-07-18T11:21:18.143Z"
   },
   {
    "duration": 4,
    "start_time": "2024-07-18T11:21:39.456Z"
   },
   {
    "duration": 734,
    "start_time": "2024-07-18T11:21:39.462Z"
   },
   {
    "duration": 122,
    "start_time": "2024-07-18T11:21:40.198Z"
   },
   {
    "duration": 3,
    "start_time": "2024-07-18T11:21:40.322Z"
   },
   {
    "duration": 5,
    "start_time": "2024-07-18T11:21:40.327Z"
   },
   {
    "duration": 299,
    "start_time": "2024-07-18T11:21:40.333Z"
   },
   {
    "duration": 121,
    "start_time": "2024-07-18T11:21:40.634Z"
   },
   {
    "duration": 80,
    "start_time": "2024-07-18T11:21:40.756Z"
   },
   {
    "duration": 218,
    "start_time": "2024-07-18T11:21:40.838Z"
   },
   {
    "duration": 245,
    "start_time": "2024-07-18T11:21:41.057Z"
   },
   {
    "duration": 78,
    "start_time": "2024-07-18T11:21:41.303Z"
   },
   {
    "duration": 93,
    "start_time": "2024-07-18T11:21:41.383Z"
   },
   {
    "duration": 16,
    "start_time": "2024-07-18T11:21:41.478Z"
   },
   {
    "duration": 106,
    "start_time": "2024-07-18T11:21:41.496Z"
   },
   {
    "duration": 22,
    "start_time": "2024-07-18T11:21:46.542Z"
   },
   {
    "duration": 38,
    "start_time": "2024-07-18T11:22:00.623Z"
   },
   {
    "duration": 5,
    "start_time": "2024-07-18T11:22:34.145Z"
   },
   {
    "duration": 734,
    "start_time": "2024-07-18T11:22:34.151Z"
   },
   {
    "duration": 144,
    "start_time": "2024-07-18T11:22:34.887Z"
   },
   {
    "duration": 3,
    "start_time": "2024-07-18T11:22:35.032Z"
   },
   {
    "duration": 14,
    "start_time": "2024-07-18T11:22:35.037Z"
   },
   {
    "duration": 290,
    "start_time": "2024-07-18T11:22:35.052Z"
   },
   {
    "duration": 124,
    "start_time": "2024-07-18T11:22:35.343Z"
   },
   {
    "duration": 78,
    "start_time": "2024-07-18T11:22:35.468Z"
   },
   {
    "duration": 216,
    "start_time": "2024-07-18T11:22:35.548Z"
   },
   {
    "duration": 250,
    "start_time": "2024-07-18T11:22:35.766Z"
   },
   {
    "duration": 76,
    "start_time": "2024-07-18T11:22:36.018Z"
   },
   {
    "duration": 95,
    "start_time": "2024-07-18T11:22:36.095Z"
   },
   {
    "duration": 27,
    "start_time": "2024-07-18T11:22:36.191Z"
   },
   {
    "duration": 92,
    "start_time": "2024-07-18T11:22:36.220Z"
   },
   {
    "duration": 38,
    "start_time": "2024-07-18T11:22:50.990Z"
   },
   {
    "duration": 1322,
    "start_time": "2024-07-18T11:30:39.868Z"
   },
   {
    "duration": 734,
    "start_time": "2024-07-18T11:30:41.192Z"
   },
   {
    "duration": 130,
    "start_time": "2024-07-18T11:30:41.928Z"
   },
   {
    "duration": 3,
    "start_time": "2024-07-18T11:30:42.059Z"
   },
   {
    "duration": 9,
    "start_time": "2024-07-18T11:30:42.064Z"
   },
   {
    "duration": 358,
    "start_time": "2024-07-18T11:30:42.075Z"
   },
   {
    "duration": 130,
    "start_time": "2024-07-18T11:30:42.435Z"
   },
   {
    "duration": 77,
    "start_time": "2024-07-18T11:30:42.566Z"
   },
   {
    "duration": 209,
    "start_time": "2024-07-18T11:30:42.644Z"
   },
   {
    "duration": 287,
    "start_time": "2024-07-18T11:30:42.854Z"
   },
   {
    "duration": 89,
    "start_time": "2024-07-18T11:30:43.142Z"
   },
   {
    "duration": 95,
    "start_time": "2024-07-18T11:30:43.233Z"
   },
   {
    "duration": 76,
    "start_time": "2024-07-18T11:30:43.329Z"
   },
   {
    "duration": 71587,
    "start_time": "2024-07-18T11:32:36.618Z"
   },
   {
    "duration": 82426,
    "start_time": "2024-07-18T11:37:33.769Z"
   },
   {
    "duration": 64130,
    "start_time": "2024-07-18T11:43:20.585Z"
   },
   {
    "duration": 78727,
    "start_time": "2024-07-18T11:47:21.465Z"
   },
   {
    "duration": 76156,
    "start_time": "2024-07-18T11:50:13.175Z"
   },
   {
    "duration": 102,
    "start_time": "2024-07-18T12:01:49.972Z"
   },
   {
    "duration": 80,
    "start_time": "2024-07-18T12:02:02.294Z"
   },
   {
    "duration": 1723,
    "start_time": "2024-07-19T05:40:09.991Z"
   },
   {
    "duration": 3006,
    "start_time": "2024-07-19T05:40:11.716Z"
   },
   {
    "duration": 152,
    "start_time": "2024-07-19T05:40:14.723Z"
   },
   {
    "duration": 3,
    "start_time": "2024-07-19T05:40:14.877Z"
   },
   {
    "duration": 20,
    "start_time": "2024-07-19T05:40:14.882Z"
   },
   {
    "duration": 425,
    "start_time": "2024-07-19T05:40:14.903Z"
   },
   {
    "duration": 154,
    "start_time": "2024-07-19T05:40:15.330Z"
   },
   {
    "duration": 102,
    "start_time": "2024-07-19T05:40:15.485Z"
   },
   {
    "duration": 314,
    "start_time": "2024-07-19T05:40:15.589Z"
   },
   {
    "duration": 298,
    "start_time": "2024-07-19T05:40:15.905Z"
   },
   {
    "duration": 101,
    "start_time": "2024-07-19T05:40:16.205Z"
   },
   {
    "duration": 101,
    "start_time": "2024-07-19T05:40:16.308Z"
   },
   {
    "duration": 98164,
    "start_time": "2024-07-19T05:40:16.411Z"
   },
   {
    "duration": 108,
    "start_time": "2024-07-19T05:41:54.578Z"
   },
   {
    "duration": 93,
    "start_time": "2024-07-19T05:41:54.688Z"
   },
   {
    "duration": 11562,
    "start_time": "2024-07-19T05:43:54.715Z"
   },
   {
    "duration": 11884,
    "start_time": "2024-07-19T05:45:09.241Z"
   },
   {
    "duration": 52,
    "start_time": "2024-07-19T05:47:21.832Z"
   },
   {
    "duration": 1483,
    "start_time": "2024-07-19T05:47:32.856Z"
   },
   {
    "duration": 938,
    "start_time": "2024-07-19T05:47:34.341Z"
   },
   {
    "duration": 173,
    "start_time": "2024-07-19T05:47:35.281Z"
   },
   {
    "duration": 3,
    "start_time": "2024-07-19T05:47:35.456Z"
   },
   {
    "duration": 23,
    "start_time": "2024-07-19T05:47:35.464Z"
   },
   {
    "duration": 411,
    "start_time": "2024-07-19T05:47:35.489Z"
   },
   {
    "duration": 141,
    "start_time": "2024-07-19T05:47:35.901Z"
   },
   {
    "duration": 109,
    "start_time": "2024-07-19T05:47:36.044Z"
   },
   {
    "duration": 285,
    "start_time": "2024-07-19T05:47:36.155Z"
   },
   {
    "duration": 292,
    "start_time": "2024-07-19T05:47:36.442Z"
   },
   {
    "duration": 111,
    "start_time": "2024-07-19T05:47:36.736Z"
   },
   {
    "duration": 93,
    "start_time": "2024-07-19T05:47:36.849Z"
   },
   {
    "duration": 97656,
    "start_time": "2024-07-19T05:47:36.944Z"
   },
   {
    "duration": 95,
    "start_time": "2024-07-19T05:49:14.602Z"
   },
   {
    "duration": 84,
    "start_time": "2024-07-19T05:49:14.699Z"
   },
   {
    "duration": 11713,
    "start_time": "2024-07-19T05:49:14.785Z"
   },
   {
    "duration": 103,
    "start_time": "2024-07-19T05:59:17.455Z"
   },
   {
    "duration": 87,
    "start_time": "2024-07-19T06:01:04.580Z"
   },
   {
    "duration": 1442,
    "start_time": "2024-07-19T06:01:31.801Z"
   },
   {
    "duration": 948,
    "start_time": "2024-07-19T06:01:33.245Z"
   },
   {
    "duration": 174,
    "start_time": "2024-07-19T06:01:34.194Z"
   },
   {
    "duration": 3,
    "start_time": "2024-07-19T06:01:34.370Z"
   },
   {
    "duration": 17,
    "start_time": "2024-07-19T06:01:34.376Z"
   },
   {
    "duration": 394,
    "start_time": "2024-07-19T06:01:34.395Z"
   },
   {
    "duration": 141,
    "start_time": "2024-07-19T06:01:34.790Z"
   },
   {
    "duration": 101,
    "start_time": "2024-07-19T06:01:34.932Z"
   },
   {
    "duration": 296,
    "start_time": "2024-07-19T06:01:35.034Z"
   },
   {
    "duration": 336,
    "start_time": "2024-07-19T06:01:35.332Z"
   },
   {
    "duration": 133,
    "start_time": "2024-07-19T06:01:35.670Z"
   },
   {
    "duration": 110,
    "start_time": "2024-07-19T06:01:35.805Z"
   },
   {
    "duration": 98581,
    "start_time": "2024-07-19T06:01:35.918Z"
   },
   {
    "duration": 152,
    "start_time": "2024-07-19T06:03:14.501Z"
   },
   {
    "duration": 18,
    "start_time": "2024-07-19T06:04:04.876Z"
   },
   {
    "duration": 62,
    "start_time": "2024-07-19T06:04:14.828Z"
   },
   {
    "duration": 26,
    "start_time": "2024-07-19T06:09:46.140Z"
   },
   {
    "duration": 162,
    "start_time": "2024-07-19T06:16:30.148Z"
   },
   {
    "duration": 1495,
    "start_time": "2024-07-19T06:16:40.124Z"
   },
   {
    "duration": 951,
    "start_time": "2024-07-19T06:16:41.621Z"
   },
   {
    "duration": 174,
    "start_time": "2024-07-19T06:16:42.573Z"
   },
   {
    "duration": 3,
    "start_time": "2024-07-19T06:16:42.748Z"
   },
   {
    "duration": 14,
    "start_time": "2024-07-19T06:16:42.753Z"
   },
   {
    "duration": 420,
    "start_time": "2024-07-19T06:16:42.769Z"
   },
   {
    "duration": 153,
    "start_time": "2024-07-19T06:16:43.190Z"
   },
   {
    "duration": 104,
    "start_time": "2024-07-19T06:16:43.344Z"
   },
   {
    "duration": 247,
    "start_time": "2024-07-19T06:16:43.450Z"
   },
   {
    "duration": 330,
    "start_time": "2024-07-19T06:16:43.698Z"
   },
   {
    "duration": 103,
    "start_time": "2024-07-19T06:16:44.030Z"
   },
   {
    "duration": 94,
    "start_time": "2024-07-19T06:16:44.135Z"
   },
   {
    "duration": 97353,
    "start_time": "2024-07-19T06:16:44.230Z"
   },
   {
    "duration": 155,
    "start_time": "2024-07-19T06:18:21.585Z"
   },
   {
    "duration": 33,
    "start_time": "2024-07-19T06:18:21.741Z"
   },
   {
    "duration": 117,
    "start_time": "2024-07-19T06:18:21.776Z"
   },
   {
    "duration": 27,
    "start_time": "2024-07-19T06:18:21.895Z"
   },
   {
    "duration": 2745,
    "start_time": "2024-07-19T06:22:30.163Z"
   },
   {
    "duration": 1565,
    "start_time": "2024-07-19T06:23:43.468Z"
   },
   {
    "duration": 961,
    "start_time": "2024-07-19T06:23:45.035Z"
   },
   {
    "duration": 169,
    "start_time": "2024-07-19T06:23:45.998Z"
   },
   {
    "duration": 3,
    "start_time": "2024-07-19T06:23:46.169Z"
   },
   {
    "duration": 4,
    "start_time": "2024-07-19T06:23:46.174Z"
   },
   {
    "duration": 427,
    "start_time": "2024-07-19T06:23:46.180Z"
   },
   {
    "duration": 140,
    "start_time": "2024-07-19T06:23:46.608Z"
   },
   {
    "duration": 123,
    "start_time": "2024-07-19T06:23:46.749Z"
   },
   {
    "duration": 231,
    "start_time": "2024-07-19T06:23:46.874Z"
   },
   {
    "duration": 323,
    "start_time": "2024-07-19T06:23:47.108Z"
   },
   {
    "duration": 129,
    "start_time": "2024-07-19T06:23:47.433Z"
   },
   {
    "duration": 90,
    "start_time": "2024-07-19T06:23:47.564Z"
   },
   {
    "duration": 97566,
    "start_time": "2024-07-19T06:23:47.664Z"
   },
   {
    "duration": 153,
    "start_time": "2024-07-19T06:25:25.233Z"
   },
   {
    "duration": 17,
    "start_time": "2024-07-19T06:25:25.388Z"
   },
   {
    "duration": 544,
    "start_time": "2024-07-19T06:25:25.407Z"
   },
   {
    "duration": 1180,
    "start_time": "2024-07-19T06:25:25.953Z"
   },
   {
    "duration": 39,
    "start_time": "2024-07-19T06:37:39.380Z"
   },
   {
    "duration": 37,
    "start_time": "2024-07-19T06:38:25.370Z"
   },
   {
    "duration": 13,
    "start_time": "2024-07-19T06:38:39.235Z"
   },
   {
    "duration": 18,
    "start_time": "2024-07-19T06:47:40.151Z"
   },
   {
    "duration": 20,
    "start_time": "2024-07-19T06:49:30.858Z"
   },
   {
    "duration": 1615,
    "start_time": "2024-07-19T06:49:48.154Z"
   },
   {
    "duration": 1097,
    "start_time": "2024-07-19T06:49:49.772Z"
   },
   {
    "duration": 174,
    "start_time": "2024-07-19T06:49:50.871Z"
   },
   {
    "duration": 4,
    "start_time": "2024-07-19T06:49:51.047Z"
   },
   {
    "duration": 9,
    "start_time": "2024-07-19T06:49:51.066Z"
   },
   {
    "duration": 443,
    "start_time": "2024-07-19T06:49:51.077Z"
   },
   {
    "duration": 151,
    "start_time": "2024-07-19T06:49:51.522Z"
   },
   {
    "duration": 111,
    "start_time": "2024-07-19T06:49:51.675Z"
   },
   {
    "duration": 266,
    "start_time": "2024-07-19T06:49:51.788Z"
   },
   {
    "duration": 371,
    "start_time": "2024-07-19T06:49:52.057Z"
   },
   {
    "duration": 143,
    "start_time": "2024-07-19T06:49:52.431Z"
   },
   {
    "duration": 123,
    "start_time": "2024-07-19T06:49:52.576Z"
   },
   {
    "duration": 101653,
    "start_time": "2024-07-19T06:49:52.701Z"
   },
   {
    "duration": 165,
    "start_time": "2024-07-19T06:51:34.355Z"
   },
   {
    "duration": 18,
    "start_time": "2024-07-19T06:51:34.521Z"
   },
   {
    "duration": 552,
    "start_time": "2024-07-19T06:51:34.540Z"
   },
   {
    "duration": 39,
    "start_time": "2024-07-19T06:51:35.094Z"
   },
   {
    "duration": 13,
    "start_time": "2024-07-19T06:51:35.135Z"
   },
   {
    "duration": 16,
    "start_time": "2024-07-19T06:51:35.164Z"
   },
   {
    "duration": 14771,
    "start_time": "2024-07-19T09:50:52.922Z"
   },
   {
    "duration": 97,
    "start_time": "2024-07-19T10:01:21.977Z"
   },
   {
    "duration": 32,
    "start_time": "2024-07-19T10:07:23.698Z"
   },
   {
    "duration": 131,
    "start_time": "2024-07-19T10:13:52.349Z"
   },
   {
    "duration": 3609,
    "start_time": "2024-07-19T10:14:01.657Z"
   },
   {
    "duration": 2570,
    "start_time": "2024-07-19T10:14:15.981Z"
   },
   {
    "duration": 1544,
    "start_time": "2024-07-19T10:14:18.554Z"
   },
   {
    "duration": 1006,
    "start_time": "2024-07-19T10:14:20.100Z"
   },
   {
    "duration": 208,
    "start_time": "2024-07-19T10:14:21.108Z"
   },
   {
    "duration": 3,
    "start_time": "2024-07-19T10:14:21.318Z"
   },
   {
    "duration": 6,
    "start_time": "2024-07-19T10:14:21.323Z"
   },
   {
    "duration": 474,
    "start_time": "2024-07-19T10:14:21.331Z"
   },
   {
    "duration": 146,
    "start_time": "2024-07-19T10:14:21.807Z"
   },
   {
    "duration": 102,
    "start_time": "2024-07-19T10:14:21.955Z"
   },
   {
    "duration": 229,
    "start_time": "2024-07-19T10:14:22.066Z"
   },
   {
    "duration": 307,
    "start_time": "2024-07-19T10:14:22.297Z"
   },
   {
    "duration": 104,
    "start_time": "2024-07-19T10:14:22.606Z"
   },
   {
    "duration": 92,
    "start_time": "2024-07-19T10:14:22.712Z"
   },
   {
    "duration": 98786,
    "start_time": "2024-07-19T10:14:22.805Z"
   },
   {
    "duration": 156,
    "start_time": "2024-07-19T10:16:01.593Z"
   },
   {
    "duration": 25,
    "start_time": "2024-07-19T10:16:01.751Z"
   },
   {
    "duration": 533,
    "start_time": "2024-07-19T10:16:01.778Z"
   },
   {
    "duration": 40,
    "start_time": "2024-07-19T10:16:02.312Z"
   },
   {
    "duration": 23,
    "start_time": "2024-07-19T10:16:02.353Z"
   },
   {
    "duration": 38,
    "start_time": "2024-07-19T10:16:02.377Z"
   },
   {
    "duration": 15091,
    "start_time": "2024-07-19T10:16:02.417Z"
   },
   {
    "duration": 30,
    "start_time": "2024-07-19T10:16:17.510Z"
   },
   {
    "duration": 13388,
    "start_time": "2024-07-19T10:16:37.500Z"
   },
   {
    "duration": 532,
    "start_time": "2024-07-19T10:34:54.499Z"
   },
   {
    "duration": 142,
    "start_time": "2024-07-19T10:35:09.380Z"
   },
   {
    "duration": 18,
    "start_time": "2024-07-19T10:36:18.772Z"
   },
   {
    "duration": 13883,
    "start_time": "2024-07-19T10:37:34.009Z"
   },
   {
    "duration": 86,
    "start_time": "2024-07-19T10:47:44.556Z"
   },
   {
    "duration": 12,
    "start_time": "2024-07-19T10:53:44.316Z"
   },
   {
    "duration": 956,
    "start_time": "2024-07-19T10:53:55.548Z"
   },
   {
    "duration": 182,
    "start_time": "2024-07-19T10:55:42.243Z"
   },
   {
    "duration": 72,
    "start_time": "2024-07-19T11:01:14.124Z"
   },
   {
    "duration": 79,
    "start_time": "2024-07-19T11:01:39.676Z"
   },
   {
    "duration": 5550,
    "start_time": "2024-07-19T11:01:48.444Z"
   },
   {
    "duration": 94,
    "start_time": "2024-07-19T11:02:27.260Z"
   },
   {
    "duration": 974,
    "start_time": "2024-07-19T11:02:28.667Z"
   },
   {
    "duration": 16000,
    "start_time": "2024-07-19T11:02:33.068Z"
   },
   {
    "duration": 237,
    "start_time": "2024-07-19T11:05:02.331Z"
   },
   {
    "duration": 5,
    "start_time": "2024-07-19T11:08:32.604Z"
   },
   {
    "duration": 329790,
    "start_time": "2024-07-19T11:16:18.740Z"
   },
   {
    "duration": 47908,
    "start_time": "2024-07-19T11:25:10.582Z"
   },
   {
    "duration": 372952,
    "start_time": "2024-07-19T11:26:11.252Z"
   },
   {
    "duration": 25219,
    "start_time": "2024-07-19T11:56:28.742Z"
   },
   {
    "duration": 16653,
    "start_time": "2024-07-19T11:58:14.619Z"
   },
   {
    "duration": 145,
    "start_time": "2024-07-19T11:59:00.981Z"
   },
   {
    "duration": 7,
    "start_time": "2024-07-19T12:06:57.831Z"
   },
   {
    "duration": 128,
    "start_time": "2024-07-19T12:07:35.219Z"
   },
   {
    "duration": 5,
    "start_time": "2024-07-19T12:07:36.482Z"
   },
   {
    "duration": 58728,
    "start_time": "2024-07-19T12:16:41.851Z"
   },
   {
    "duration": 745725,
    "start_time": "2024-07-19T12:18:06.156Z"
   },
   {
    "duration": 17428,
    "start_time": "2024-07-19T12:43:04.845Z"
   },
   {
    "duration": 840,
    "start_time": "2024-07-19T12:44:08.453Z"
   },
   {
    "duration": 6,
    "start_time": "2024-07-19T12:45:39.358Z"
   },
   {
    "duration": 61,
    "start_time": "2024-07-19T12:52:02.214Z"
   },
   {
    "duration": 18,
    "start_time": "2024-07-19T12:52:08.589Z"
   },
   {
    "duration": 9,
    "start_time": "2024-07-19T12:52:20.901Z"
   },
   {
    "duration": 10,
    "start_time": "2024-07-19T12:52:39.524Z"
   },
   {
    "duration": 2608,
    "start_time": "2024-07-19T13:09:57.854Z"
   },
   {
    "duration": 1655,
    "start_time": "2024-07-19T13:10:00.465Z"
   },
   {
    "duration": 996,
    "start_time": "2024-07-19T13:10:02.121Z"
   },
   {
    "duration": 187,
    "start_time": "2024-07-19T13:10:03.119Z"
   },
   {
    "duration": 4,
    "start_time": "2024-07-19T13:10:03.308Z"
   },
   {
    "duration": 30,
    "start_time": "2024-07-19T13:10:03.313Z"
   },
   {
    "duration": 542,
    "start_time": "2024-07-19T13:10:03.345Z"
   },
   {
    "duration": 207,
    "start_time": "2024-07-19T13:10:03.889Z"
   },
   {
    "duration": 110,
    "start_time": "2024-07-19T13:10:04.097Z"
   },
   {
    "duration": 237,
    "start_time": "2024-07-19T13:10:04.209Z"
   },
   {
    "duration": 337,
    "start_time": "2024-07-19T13:10:04.448Z"
   },
   {
    "duration": 114,
    "start_time": "2024-07-19T13:10:04.787Z"
   },
   {
    "duration": 106,
    "start_time": "2024-07-19T13:10:04.903Z"
   },
   {
    "duration": 102481,
    "start_time": "2024-07-19T13:10:05.012Z"
   },
   {
    "duration": 169,
    "start_time": "2024-07-19T13:11:47.495Z"
   },
   {
    "duration": 22,
    "start_time": "2024-07-19T13:11:47.666Z"
   },
   {
    "duration": 590,
    "start_time": "2024-07-19T13:11:47.690Z"
   },
   {
    "duration": 40,
    "start_time": "2024-07-19T13:11:48.282Z"
   },
   {
    "duration": 13,
    "start_time": "2024-07-19T13:11:48.323Z"
   },
   {
    "duration": 38,
    "start_time": "2024-07-19T13:11:48.338Z"
   },
   {
    "duration": 15988,
    "start_time": "2024-07-19T13:11:48.377Z"
   },
   {
    "duration": 35,
    "start_time": "2024-07-19T13:12:04.367Z"
   },
   {
    "duration": 84,
    "start_time": "2024-07-19T13:12:04.403Z"
   },
   {
    "duration": 5988,
    "start_time": "2024-07-19T13:12:04.489Z"
   },
   {
    "duration": 96,
    "start_time": "2024-07-19T13:12:10.479Z"
   },
   {
    "duration": 959,
    "start_time": "2024-07-19T13:12:10.577Z"
   },
   {
    "duration": 34040,
    "start_time": "2024-07-19T13:12:11.538Z"
   },
   {
    "duration": 298,
    "start_time": "2024-07-19T13:12:45.667Z"
   },
   {
    "duration": 97,
    "start_time": "2024-07-19T13:12:45.968Z"
   },
   {
    "duration": 380405,
    "start_time": "2024-07-19T13:12:46.068Z"
   },
   {
    "duration": 16828,
    "start_time": "2024-07-19T13:19:06.475Z"
   },
   {
    "duration": 129,
    "start_time": "2024-07-19T13:19:23.305Z"
   },
   {
    "duration": 6,
    "start_time": "2024-07-19T13:19:23.436Z"
   },
   {
    "duration": 2665,
    "start_time": "2024-07-19T13:48:26.061Z"
   },
   {
    "duration": 1649,
    "start_time": "2024-07-19T13:48:28.728Z"
   },
   {
    "duration": 1080,
    "start_time": "2024-07-19T13:48:30.379Z"
   },
   {
    "duration": 212,
    "start_time": "2024-07-19T13:48:31.461Z"
   },
   {
    "duration": 4,
    "start_time": "2024-07-19T13:48:31.676Z"
   },
   {
    "duration": 13,
    "start_time": "2024-07-19T13:48:31.682Z"
   },
   {
    "duration": 473,
    "start_time": "2024-07-19T13:48:31.697Z"
   },
   {
    "duration": 149,
    "start_time": "2024-07-19T13:48:32.172Z"
   },
   {
    "duration": 132,
    "start_time": "2024-07-19T13:48:32.324Z"
   },
   {
    "duration": 260,
    "start_time": "2024-07-19T13:48:32.464Z"
   },
   {
    "duration": 335,
    "start_time": "2024-07-19T13:48:32.726Z"
   },
   {
    "duration": 149,
    "start_time": "2024-07-19T13:48:33.064Z"
   },
   {
    "duration": 106,
    "start_time": "2024-07-19T13:48:33.215Z"
   },
   {
    "duration": 101062,
    "start_time": "2024-07-19T13:48:33.324Z"
   },
   {
    "duration": 167,
    "start_time": "2024-07-19T13:50:14.388Z"
   },
   {
    "duration": 22,
    "start_time": "2024-07-19T13:50:14.557Z"
   },
   {
    "duration": 555,
    "start_time": "2024-07-19T13:50:14.581Z"
   },
   {
    "duration": 53,
    "start_time": "2024-07-19T13:50:15.137Z"
   },
   {
    "duration": 16,
    "start_time": "2024-07-19T13:50:15.193Z"
   },
   {
    "duration": 35,
    "start_time": "2024-07-19T13:50:15.211Z"
   },
   {
    "duration": 72,
    "start_time": "2024-07-19T13:50:15.248Z"
   },
   {
    "duration": 0,
    "start_time": "2024-07-19T13:50:15.322Z"
   },
   {
    "duration": 0,
    "start_time": "2024-07-19T13:50:15.323Z"
   },
   {
    "duration": 0,
    "start_time": "2024-07-19T13:50:15.325Z"
   },
   {
    "duration": 0,
    "start_time": "2024-07-19T13:50:15.326Z"
   },
   {
    "duration": 0,
    "start_time": "2024-07-19T13:50:15.327Z"
   },
   {
    "duration": 0,
    "start_time": "2024-07-19T13:50:15.328Z"
   },
   {
    "duration": 0,
    "start_time": "2024-07-19T13:50:15.330Z"
   },
   {
    "duration": 0,
    "start_time": "2024-07-19T13:50:15.331Z"
   },
   {
    "duration": 0,
    "start_time": "2024-07-19T13:50:15.332Z"
   },
   {
    "duration": 0,
    "start_time": "2024-07-19T13:50:15.334Z"
   },
   {
    "duration": 0,
    "start_time": "2024-07-19T13:50:15.335Z"
   },
   {
    "duration": 0,
    "start_time": "2024-07-19T13:50:15.336Z"
   },
   {
    "duration": 0,
    "start_time": "2024-07-19T13:50:15.337Z"
   },
   {
    "duration": 0,
    "start_time": "2024-07-19T13:50:15.338Z"
   },
   {
    "duration": 0,
    "start_time": "2024-07-19T13:50:15.339Z"
   },
   {
    "duration": 0,
    "start_time": "2024-07-19T13:50:15.340Z"
   },
   {
    "duration": 0,
    "start_time": "2024-07-19T13:50:15.342Z"
   },
   {
    "duration": 14376,
    "start_time": "2024-07-19T13:55:54.091Z"
   },
   {
    "duration": 44,
    "start_time": "2024-07-19T13:58:41.797Z"
   },
   {
    "duration": 91,
    "start_time": "2024-07-19T13:58:41.842Z"
   },
   {
    "duration": 5707,
    "start_time": "2024-07-19T13:58:41.935Z"
   },
   {
    "duration": 90,
    "start_time": "2024-07-19T13:58:47.644Z"
   },
   {
    "duration": 912,
    "start_time": "2024-07-19T13:58:47.737Z"
   },
   {
    "duration": 16320,
    "start_time": "2024-07-19T13:58:48.651Z"
   },
   {
    "duration": 302,
    "start_time": "2024-07-19T13:59:04.973Z"
   },
   {
    "duration": 89,
    "start_time": "2024-07-19T13:59:05.278Z"
   },
   {
    "duration": 391528,
    "start_time": "2024-07-19T13:59:05.369Z"
   },
   {
    "duration": 17523,
    "start_time": "2024-07-19T14:05:36.899Z"
   },
   {
    "duration": 145,
    "start_time": "2024-07-19T14:05:54.424Z"
   },
   {
    "duration": 6,
    "start_time": "2024-07-19T14:05:54.572Z"
   },
   {
    "duration": 51,
    "start_time": "2024-07-20T12:47:42.659Z"
   },
   {
    "duration": 1414,
    "start_time": "2024-07-20T12:47:55.381Z"
   },
   {
    "duration": 0,
    "start_time": "2024-07-20T12:47:56.798Z"
   },
   {
    "duration": 0,
    "start_time": "2024-07-20T12:47:56.799Z"
   },
   {
    "duration": 0,
    "start_time": "2024-07-20T12:47:56.800Z"
   },
   {
    "duration": 0,
    "start_time": "2024-07-20T12:47:56.802Z"
   },
   {
    "duration": 0,
    "start_time": "2024-07-20T12:47:56.804Z"
   },
   {
    "duration": 0,
    "start_time": "2024-07-20T12:47:56.805Z"
   },
   {
    "duration": 0,
    "start_time": "2024-07-20T12:47:56.806Z"
   },
   {
    "duration": 0,
    "start_time": "2024-07-20T12:47:56.808Z"
   },
   {
    "duration": 0,
    "start_time": "2024-07-20T12:47:56.809Z"
   }
  ],
  "kernelspec": {
   "display_name": "Python 3 (ipykernel)",
   "language": "python",
   "name": "python3"
  },
  "language_info": {
   "codemirror_mode": {
    "name": "ipython",
    "version": 3
   },
   "file_extension": ".py",
   "mimetype": "text/x-python",
   "name": "python",
   "nbconvert_exporter": "python",
   "pygments_lexer": "ipython3",
   "version": "3.9.19"
  },
  "toc": {
   "base_numbering": 1,
   "nav_menu": {},
   "number_sections": false,
   "sideBar": true,
   "skip_h1_title": true,
   "title_cell": "Table of Contents",
   "title_sidebar": "Contents",
   "toc_cell": false,
   "toc_position": {},
   "toc_section_display": true,
   "toc_window_display": false
  }
 },
 "nbformat": 4,
 "nbformat_minor": 2
}
